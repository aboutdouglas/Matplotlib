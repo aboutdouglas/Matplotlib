{
  "nbformat": 4,
  "nbformat_minor": 0,
  "metadata": {
    "colab": {
      "name": "Introdução ao Matplotlib.ipynb",
      "provenance": [],
      "authorship_tag": "ABX9TyPRPm5X+KJbHztu9GykJ417",
      "include_colab_link": true
    },
    "kernelspec": {
      "name": "python3",
      "display_name": "Python 3"
    },
    "language_info": {
      "name": "python"
    }
  },
  "cells": [
    {
      "cell_type": "markdown",
      "metadata": {
        "id": "view-in-github",
        "colab_type": "text"
      },
      "source": [
        "<a href=\"https://colab.research.google.com/github/aboutdouglas/Matplotlib/blob/main/Introdu%C3%A7%C3%A3o_ao_Matplotlib.ipynb\" target=\"_parent\"><img src=\"https://colab.research.google.com/assets/colab-badge.svg\" alt=\"Open In Colab\"/></a>"
      ]
    },
    {
      "cell_type": "markdown",
      "source": [
        "# Matplotlib\n",
        "\n",
        "*   https://matplotlib.org/\n",
        "*   Permite a criação desde visualizações estáticas mais simples, até gráficos mais complexos e elaborados.\n",
        "*   Como dia a própria documentação, ele torna o que é fácil, fácil, e as coisas difíceis, possíveis de serem feitas!\n",
        "*   Ela é bem completa e também útil para analytics.\n",
        "*   Não possui tanta customização quanto outras bibliotecas e **pode deixar a desejar no apelo estético em alguns casos**.\n"
      ],
      "metadata": {
        "id": "z0jzeobS7BYy"
      }
    },
    {
      "cell_type": "markdown",
      "source": [
        "# Pyplot\n",
        "\n",
        "*   O Pyplot é o módulo do matplotlib que possui os gráficos básicos normalmente usados nessa biblioteca.\n",
        "*   Vamos usar bastante o pyplot e, por isso, vamos importar diretamente esse módulo.\n",
        "\n"
      ],
      "metadata": {
        "id": "rHyvmsRd8Gg9"
      }
    },
    {
      "cell_type": "code",
      "execution_count": null,
      "metadata": {
        "colab": {
          "base_uri": "https://localhost:8080/",
          "height": 265
        },
        "id": "8FLF8oGo6vLn",
        "outputId": "f321e99d-3766-4281-d6db-ee3218ce1d42"
      },
      "outputs": [
        {
          "output_type": "display_data",
          "data": {
            "text/plain": [
              "<Figure size 432x288 with 1 Axes>"
            ],
            "image/png": "[encoded data removed]"
          },
          "metadata": {
            "needs_background": "light"
          }
        }
      ],
      "source": [
        "import matplotlib.pyplot as plt\n",
        "import numpy as np\n",
        "\n",
        "x = np.linspace(0, 2 * np.pi, 200)\n",
        "y = np.sin(x)\n",
        "\n",
        "fig, ax = plt.subplots()\n",
        "ax.plot(x, y)\n",
        "plt.show()"
      ]
    },
    {
      "cell_type": "code",
      "source": [
        "# Importando o pyplot\n",
        "import matplotlib.pyplot as plt\n",
        "\n",
        "# Importando as outras bibliotecas\n",
        "import numpy as np\n",
        "import pandas as pd\n",
        "import datetime as dt"
      ],
      "metadata": {
        "id": "UZBF0KMM_8aK"
      },
      "execution_count": null,
      "outputs": []
    },
    {
      "cell_type": "markdown",
      "source": [
        "Vamos usar a base do Instagram para aplicar todas as transformações"
      ],
      "metadata": {
        "id": "_ssFsuB8Akac"
      }
    },
    {
      "cell_type": "code",
      "source": [
        "# Importar a base em excel\n",
        "from google.colab import drive\n",
        "drive.mount('/content/drive')\n",
        "base = pd.read_excel('/content/drive/MyDrive/Colab Notebooks/Hashtag/Analisando Engajamento Instagram/08. Analisando o engajamento no Instagram.xlsx')\n",
        "\n",
        "# Apagando a coluna \"Visualizações\"\n",
        "base = base.drop('Visualizações', axis=1)\n",
        "\n",
        "# Agora vamos atribuir o valor N para essa coluna\n",
        "base.loc[base.Carrossel.isnull(), 'Carrossel'] = 'N'"
      ],
      "metadata": {
        "id": "Rn7luX3BAqHI",
        "colab": {
          "base_uri": "https://localhost:8080/"
        },
        "outputId": "119904b0-29af-465a-a1bf-60444c198b06"
      },
      "execution_count": null,
      "outputs": [
        {
          "output_type": "stream",
          "name": "stdout",
          "text": [
            "Mounted at /content/drive\n"
          ]
        }
      ]
    },
    {
      "cell_type": "code",
      "source": [
        "base.head()"
      ],
      "metadata": {
        "id": "nhYGbKdGBNai",
        "outputId": "1aeaf145-937f-4445-88f0-5bd4494ae16f",
        "colab": {
          "base_uri": "https://localhost:8080/",
          "height": 206
        }
      },
      "execution_count": null,
      "outputs": [
        {
          "output_type": "execute_result",
          "data": {
            "text/plain": [
              "    Tipo       Data  Curtidas  Comentários           Tags Pessoas Campanhas  \\\n",
              "0   Foto 2021-09-11      2858           16           Loja       N         N   \n",
              "1   Foto 2021-09-11      2930           28  Loja/Produtos       N         N   \n",
              "2   Foto 2021-09-11      2807            9           Loja       N         N   \n",
              "3  Vídeo 2021-09-12      5115           49       Produtos       N         N   \n",
              "4   Foto 2021-09-13      4392           45       Produtos       S         N   \n",
              "\n",
              "  Carrossel  Interacoes   \n",
              "0         N         2874  \n",
              "1         N         2958  \n",
              "2         N         2816  \n",
              "3         N         5164  \n",
              "4         N         4437  "
            ],
            "text/html": [
              "\n",
              "  <div id=\"df-aa49395b-33c9-4959-aafd-d88567b3443c\">\n",
              "    <div class=\"colab-df-container\">\n",
              "      <div>\n",
              "<style scoped>\n",
              "    .dataframe tbody tr th:only-of-type {\n",
              "        vertical-align: middle;\n",
              "    }\n",
              "\n",
              "    .dataframe tbody tr th {\n",
              "        vertical-align: top;\n",
              "    }\n",
              "\n",
              "    .dataframe thead th {\n",
              "        text-align: right;\n",
              "    }\n",
              "</style>\n",
              "<table border=\"1\" class=\"dataframe\">\n",
              "  <thead>\n",
              "    <tr style=\"text-align: right;\">\n",
              "      <th></th>\n",
              "      <th>Tipo</th>\n",
              "      <th>Data</th>\n",
              "      <th>Curtidas</th>\n",
              "      <th>Comentários</th>\n",
              "      <th>Tags</th>\n",
              "      <th>Pessoas</th>\n",
              "      <th>Campanhas</th>\n",
              "      <th>Carrossel</th>\n",
              "      <th>Interacoes</th>\n",
              "    </tr>\n",
              "  </thead>\n",
              "  <tbody>\n",
              "    <tr>\n",
              "      <th>0</th>\n",
              "      <td>Foto</td>\n",
              "      <td>2021-09-11</td>\n",
              "      <td>2858</td>\n",
              "      <td>16</td>\n",
              "      <td>Loja</td>\n",
              "      <td>N</td>\n",
              "      <td>N</td>\n",
              "      <td>N</td>\n",
              "      <td>2874</td>\n",
              "    </tr>\n",
              "    <tr>\n",
              "      <th>1</th>\n",
              "      <td>Foto</td>\n",
              "      <td>2021-09-11</td>\n",
              "      <td>2930</td>\n",
              "      <td>28</td>\n",
              "      <td>Loja/Produtos</td>\n",
              "      <td>N</td>\n",
              "      <td>N</td>\n",
              "      <td>N</td>\n",
              "      <td>2958</td>\n",
              "    </tr>\n",
              "    <tr>\n",
              "      <th>2</th>\n",
              "      <td>Foto</td>\n",
              "      <td>2021-09-11</td>\n",
              "      <td>2807</td>\n",
              "      <td>9</td>\n",
              "      <td>Loja</td>\n",
              "      <td>N</td>\n",
              "      <td>N</td>\n",
              "      <td>N</td>\n",
              "      <td>2816</td>\n",
              "    </tr>\n",
              "    <tr>\n",
              "      <th>3</th>\n",
              "      <td>Vídeo</td>\n",
              "      <td>2021-09-12</td>\n",
              "      <td>5115</td>\n",
              "      <td>49</td>\n",
              "      <td>Produtos</td>\n",
              "      <td>N</td>\n",
              "      <td>N</td>\n",
              "      <td>N</td>\n",
              "      <td>5164</td>\n",
              "    </tr>\n",
              "    <tr>\n",
              "      <th>4</th>\n",
              "      <td>Foto</td>\n",
              "      <td>2021-09-13</td>\n",
              "      <td>4392</td>\n",
              "      <td>45</td>\n",
              "      <td>Produtos</td>\n",
              "      <td>S</td>\n",
              "      <td>N</td>\n",
              "      <td>N</td>\n",
              "      <td>4437</td>\n",
              "    </tr>\n",
              "  </tbody>\n",
              "</table>\n",
              "</div>\n",
              "      <button class=\"colab-df-convert\" onclick=\"convertToInteractive('df-aa49395b-33c9-4959-aafd-d88567b3443c')\"\n",
              "              title=\"Convert this dataframe to an interactive table.\"\n",
              "              style=\"display:none;\">\n",
              "        \n",
              "  <svg xmlns=\"http://www.w3.org/2000/svg\" height=\"24px\"viewBox=\"0 0 24 24\"\n",
              "       width=\"24px\">\n",
              "    <path d=\"M0 0h24v24H0V0z\" fill=\"none\"/>\n",
              "    <path d=\"M18.56 5.44l.94 2.06.94-2.06 2.06-.94-2.06-.94-.94-2.06-.94 2.06-2.06.94zm-11 1L8.5 8.5l.94-2.06 2.06-.94-2.06-.94L8.5 2.5l-.94 2.06-2.06.94zm10 10l.94 2.06.94-2.06 2.06-.94-2.06-.94-.94-2.06-.94 2.06-2.06.94z\"/><path d=\"M17.41 7.96l-1.37-1.37c-.4-.4-.92-.59-1.43-.59-.52 0-1.04.2-1.43.59L10.3 9.45l-7.72 7.72c-.78.78-.78 2.05 0 2.83L4 21.41c.39.39.9.59 1.41.59.51 0 1.02-.2 1.41-.59l7.78-7.78 2.81-2.81c.8-.78.8-2.07 0-2.86zM5.41 20L4 18.59l7.72-7.72 1.47 1.35L5.41 20z\"/>\n",
              "  </svg>\n",
              "      </button>\n",
              "      \n",
              "  <style>\n",
              "    .colab-df-container {\n",
              "      display:flex;\n",
              "      flex-wrap:wrap;\n",
              "      gap: 12px;\n",
              "    }\n",
              "\n",
              "    .colab-df-convert {\n",
              "      background-color: #E8F0FE;\n",
              "      border: none;\n",
              "      border-radius: 50%;\n",
              "      cursor: pointer;\n",
              "      display: none;\n",
              "      fill: #1967D2;\n",
              "      height: 32px;\n",
              "      padding: 0 0 0 0;\n",
              "      width: 32px;\n",
              "    }\n",
              "\n",
              "    .colab-df-convert:hover {\n",
              "      background-color: #E2EBFA;\n",
              "      box-shadow: 0px 1px 2px rgba(60, 64, 67, 0.3), 0px 1px 3px 1px rgba(60, 64, 67, 0.15);\n",
              "      fill: #174EA6;\n",
              "    }\n",
              "\n",
              "    [theme=dark] .colab-df-convert {\n",
              "      background-color: #3B4455;\n",
              "      fill: #D2E3FC;\n",
              "    }\n",
              "\n",
              "    [theme=dark] .colab-df-convert:hover {\n",
              "      background-color: #434B5C;\n",
              "      box-shadow: 0px 1px 3px 1px rgba(0, 0, 0, 0.15);\n",
              "      filter: drop-shadow(0px 1px 2px rgba(0, 0, 0, 0.3));\n",
              "      fill: #FFFFFF;\n",
              "    }\n",
              "  </style>\n",
              "\n",
              "      <script>\n",
              "        const buttonEl =\n",
              "          document.querySelector('#df-aa49395b-33c9-4959-aafd-d88567b3443c button.colab-df-convert');\n",
              "        buttonEl.style.display =\n",
              "          google.colab.kernel.accessAllowed ? 'block' : 'none';\n",
              "\n",
              "        async function convertToInteractive(key) {\n",
              "          const element = document.querySelector('#df-aa49395b-33c9-4959-aafd-d88567b3443c');\n",
              "          const dataTable =\n",
              "            await google.colab.kernel.invokeFunction('convertToInteractive',\n",
              "                                                     [key], {});\n",
              "          if (!dataTable) return;\n",
              "\n",
              "          const docLinkHtml = 'Like what you see? Visit the ' +\n",
              "            '<a target=\"_blank\" href=https://colab.research.google.com/notebooks/data_table.ipynb>data table notebook</a>'\n",
              "            + ' to learn more about interactive tables.';\n",
              "          element.innerHTML = '';\n",
              "          dataTable['output_type'] = 'display_data';\n",
              "          await google.colab.output.renderOutput(dataTable, element);\n",
              "          const docLink = document.createElement('div');\n",
              "          docLink.innerHTML = docLinkHtml;\n",
              "          element.appendChild(docLink);\n",
              "        }\n",
              "      </script>\n",
              "    </div>\n",
              "  </div>\n",
              "  "
            ]
          },
          "metadata": {},
          "execution_count": 4
        }
      ]
    },
    {
      "cell_type": "markdown",
      "source": [
        "# Criando um plot no matplotlib\n",
        "\n",
        "*   https://matplotlib.org/stable/plot_types/basic/plot.html\n",
        "\n"
      ],
      "metadata": {
        "id": "wGpz-GF425DN"
      }
    },
    {
      "cell_type": "code",
      "source": [
        "import matplotlib.pyplot as plt\n",
        "import numpy as np\n",
        "\n",
        "# make data\n",
        "x = np.linspace(0, 10, 100)\n",
        "y = 4 + 2 * np.sin(2 * x)\n",
        "\n",
        "# plot\n",
        "fig, ax = plt.subplots()\n",
        "\n",
        "ax.plot(x, y, 'g--', linewidth=5.0)\n",
        "\n",
        "ax.set(xlim=(0, 8), xticks=np.arange(1, 8),\n",
        "     ylim=(0, 8), yticks=np.arange(1, 8, ))\n",
        "\n",
        "plt.show()"
      ],
      "metadata": {
        "colab": {
          "base_uri": "https://localhost:8080/",
          "height": 265
        },
        "id": "2vILT0dP4BKW",
        "outputId": "c2842027-fc5a-43a1-ccb1-5b1924b2c5b7"
      },
      "execution_count": null,
      "outputs": [
        {
          "output_type": "display_data",
          "data": {
            "text/plain": [
              "<Figure size 432x288 with 1 Axes>"
            ],
            "image/png": "[encoded data removed]"
          },
          "metadata": {
            "needs_background": "light"
          }
        }
      ]
    },
    {
      "cell_type": "code",
      "source": [
        "# make data\n",
        "x = base.Data\n",
        "y = base.Curtidas\n",
        "\n",
        "# plot\n",
        "fig, ax = plt.subplots()\n",
        "\n",
        "ax.plot(x, y, linewidth=2.0)\n",
        "\n",
        "plt.show()"
      ],
      "metadata": {
        "colab": {
          "base_uri": "https://localhost:8080/",
          "height": 265
        },
        "id": "Pu8ZWpsN6r7d",
        "outputId": "d6d4289e-35a6-41d9-9683-e89ed04cc26d"
      },
      "execution_count": null,
      "outputs": [
        {
          "output_type": "display_data",
          "data": {
            "text/plain": [
              "<Figure size 432x288 with 1 Axes>"
            ],
            "image/png": "[encoded data removed]"
          },
          "metadata": {
            "needs_background": "light"
          }
        }
      ]
    },
    {
      "cell_type": "code",
      "source": [
        "# make data\n",
        "x = base.Data\n",
        "y = base.Curtidas\n",
        "\n",
        "# plot\n",
        "fig, ax = plt.subplots()\n",
        "\n",
        "ax.scatter(x, y)\n",
        "\n",
        "plt.show()"
      ],
      "metadata": {
        "colab": {
          "base_uri": "https://localhost:8080/",
          "height": 265
        },
        "id": "Yz0307JO7GSh",
        "outputId": "2023126a-aafa-473b-c833-70c7eae7c870"
      },
      "execution_count": null,
      "outputs": [
        {
          "output_type": "display_data",
          "data": {
            "text/plain": [
              "<Figure size 432x288 with 1 Axes>"
            ],
            "image/png": "[encoded data removed]"
          },
          "metadata": {
            "needs_background": "light"
          }
        }
      ]
    },
    {
      "cell_type": "code",
      "source": [
        "# make data\n",
        "x = base.Data\n",
        "y = base.Curtidas\n",
        "\n",
        "# plot\n",
        "fig, ax = plt.subplots()\n",
        "\n",
        "ax.bar(x, y, width=5, edgecolor='white')\n",
        "\n",
        "plt.show()"
      ],
      "metadata": {
        "colab": {
          "base_uri": "https://localhost:8080/",
          "height": 265
        },
        "id": "njqb9hAy7Q9M",
        "outputId": "53b4e6db-8fc4-4fd0-fbc0-4ab969032e7c"
      },
      "execution_count": null,
      "outputs": [
        {
          "output_type": "display_data",
          "data": {
            "text/plain": [
              "<Figure size 432x288 with 1 Axes>"
            ],
            "image/png": "[encoded data removed]"
          },
          "metadata": {
            "needs_background": "light"
          }
        }
      ]
    },
    {
      "cell_type": "code",
      "source": [
        "x = [1, 2, 3, 4, 5]\n",
        "y = [1, 4, 17, 50, 92]\n",
        "\n",
        "fig, ax = plt.subplots()\n",
        "\n",
        "ax.plot(x, y)\n",
        "ax.bar(x, y)\n",
        "ax.plot(x, y)\n",
        "\n",
        "plt.show()"
      ],
      "metadata": {
        "colab": {
          "base_uri": "https://localhost:8080/",
          "height": 265
        },
        "id": "CrWUNLta-ATZ",
        "outputId": "a8519798-aac0-4ec9-f384-d6638e4b29cc"
      },
      "execution_count": null,
      "outputs": [
        {
          "output_type": "display_data",
          "data": {
            "text/plain": [
              "<Figure size 432x288 with 1 Axes>"
            ],
            "image/png": "[encoded data removed]"
          },
          "metadata": {
            "needs_background": "light"
          }
        }
      ]
    },
    {
      "cell_type": "code",
      "source": [
        "fig, ax = plt.subplots(nrows=1, ncols=2)\n",
        "\n",
        "ax[0].plot(x, y)\n",
        "ax[0].bar(x, y)\n",
        "ax[1].plot(x, y)\n",
        "\n",
        "plt.show()"
      ],
      "metadata": {
        "colab": {
          "base_uri": "https://localhost:8080/",
          "height": 265
        },
        "id": "vc0XlL_b-jGm",
        "outputId": "2c684a26-2e20-48f7-d8aa-5d41051f0aba"
      },
      "execution_count": null,
      "outputs": [
        {
          "output_type": "display_data",
          "data": {
            "text/plain": [
              "<Figure size 432x288 with 2 Axes>"
            ],
            "image/png": "[encoded data removed]"
          },
          "metadata": {
            "needs_background": "light"
          }
        }
      ]
    },
    {
      "cell_type": "markdown",
      "source": [
        "# Será que existe uma tendência de queda nas curtidas?\n",
        "\n",
        "*   Vamos fazer uma análise mensal\n",
        "> Para isso, precisamos criar a coluna mês/ano\n",
        "\n",
        "\n"
      ],
      "metadata": {
        "id": "7l0wV_5zCT87"
      }
    },
    {
      "cell_type": "code",
      "source": [
        "# Criando a coluna do mês\n",
        "base['mes'] = base.Data.dt.year*100 + base.Data.dt.month\n",
        "\n",
        "# Verificando a coluna criada\n",
        "base.head()"
      ],
      "metadata": {
        "colab": {
          "base_uri": "https://localhost:8080/",
          "height": 206
        },
        "id": "6wSG4xvE_YI3",
        "outputId": "43e0bc39-e06f-41c3-e90c-5708b494a2b2"
      },
      "execution_count": null,
      "outputs": [
        {
          "output_type": "execute_result",
          "data": {
            "text/plain": [
              "    Tipo       Data  Curtidas  Comentários           Tags Pessoas Campanhas  \\\n",
              "0   Foto 2021-09-11      2858           16           Loja       N         N   \n",
              "1   Foto 2021-09-11      2930           28  Loja/Produtos       N         N   \n",
              "2   Foto 2021-09-11      2807            9           Loja       N         N   \n",
              "3  Vídeo 2021-09-12      5115           49       Produtos       N         N   \n",
              "4   Foto 2021-09-13      4392           45       Produtos       S         N   \n",
              "\n",
              "  Carrossel  Interacoes      mes  \n",
              "0         N         2874  202109  \n",
              "1         N         2958  202109  \n",
              "2         N         2816  202109  \n",
              "3         N         5164  202109  \n",
              "4         N         4437  202109  "
            ],
            "text/html": [
              "\n",
              "  <div id=\"df-db9d60a4-4a91-455e-bb60-3aac03373d22\">\n",
              "    <div class=\"colab-df-container\">\n",
              "      <div>\n",
              "<style scoped>\n",
              "    .dataframe tbody tr th:only-of-type {\n",
              "        vertical-align: middle;\n",
              "    }\n",
              "\n",
              "    .dataframe tbody tr th {\n",
              "        vertical-align: top;\n",
              "    }\n",
              "\n",
              "    .dataframe thead th {\n",
              "        text-align: right;\n",
              "    }\n",
              "</style>\n",
              "<table border=\"1\" class=\"dataframe\">\n",
              "  <thead>\n",
              "    <tr style=\"text-align: right;\">\n",
              "      <th></th>\n",
              "      <th>Tipo</th>\n",
              "      <th>Data</th>\n",
              "      <th>Curtidas</th>\n",
              "      <th>Comentários</th>\n",
              "      <th>Tags</th>\n",
              "      <th>Pessoas</th>\n",
              "      <th>Campanhas</th>\n",
              "      <th>Carrossel</th>\n",
              "      <th>Interacoes</th>\n",
              "      <th>mes</th>\n",
              "    </tr>\n",
              "  </thead>\n",
              "  <tbody>\n",
              "    <tr>\n",
              "      <th>0</th>\n",
              "      <td>Foto</td>\n",
              "      <td>2021-09-11</td>\n",
              "      <td>2858</td>\n",
              "      <td>16</td>\n",
              "      <td>Loja</td>\n",
              "      <td>N</td>\n",
              "      <td>N</td>\n",
              "      <td>N</td>\n",
              "      <td>2874</td>\n",
              "      <td>202109</td>\n",
              "    </tr>\n",
              "    <tr>\n",
              "      <th>1</th>\n",
              "      <td>Foto</td>\n",
              "      <td>2021-09-11</td>\n",
              "      <td>2930</td>\n",
              "      <td>28</td>\n",
              "      <td>Loja/Produtos</td>\n",
              "      <td>N</td>\n",
              "      <td>N</td>\n",
              "      <td>N</td>\n",
              "      <td>2958</td>\n",
              "      <td>202109</td>\n",
              "    </tr>\n",
              "    <tr>\n",
              "      <th>2</th>\n",
              "      <td>Foto</td>\n",
              "      <td>2021-09-11</td>\n",
              "      <td>2807</td>\n",
              "      <td>9</td>\n",
              "      <td>Loja</td>\n",
              "      <td>N</td>\n",
              "      <td>N</td>\n",
              "      <td>N</td>\n",
              "      <td>2816</td>\n",
              "      <td>202109</td>\n",
              "    </tr>\n",
              "    <tr>\n",
              "      <th>3</th>\n",
              "      <td>Vídeo</td>\n",
              "      <td>2021-09-12</td>\n",
              "      <td>5115</td>\n",
              "      <td>49</td>\n",
              "      <td>Produtos</td>\n",
              "      <td>N</td>\n",
              "      <td>N</td>\n",
              "      <td>N</td>\n",
              "      <td>5164</td>\n",
              "      <td>202109</td>\n",
              "    </tr>\n",
              "    <tr>\n",
              "      <th>4</th>\n",
              "      <td>Foto</td>\n",
              "      <td>2021-09-13</td>\n",
              "      <td>4392</td>\n",
              "      <td>45</td>\n",
              "      <td>Produtos</td>\n",
              "      <td>S</td>\n",
              "      <td>N</td>\n",
              "      <td>N</td>\n",
              "      <td>4437</td>\n",
              "      <td>202109</td>\n",
              "    </tr>\n",
              "  </tbody>\n",
              "</table>\n",
              "</div>\n",
              "      <button class=\"colab-df-convert\" onclick=\"convertToInteractive('df-db9d60a4-4a91-455e-bb60-3aac03373d22')\"\n",
              "              title=\"Convert this dataframe to an interactive table.\"\n",
              "              style=\"display:none;\">\n",
              "        \n",
              "  <svg xmlns=\"http://www.w3.org/2000/svg\" height=\"24px\"viewBox=\"0 0 24 24\"\n",
              "       width=\"24px\">\n",
              "    <path d=\"M0 0h24v24H0V0z\" fill=\"none\"/>\n",
              "    <path d=\"M18.56 5.44l.94 2.06.94-2.06 2.06-.94-2.06-.94-.94-2.06-.94 2.06-2.06.94zm-11 1L8.5 8.5l.94-2.06 2.06-.94-2.06-.94L8.5 2.5l-.94 2.06-2.06.94zm10 10l.94 2.06.94-2.06 2.06-.94-2.06-.94-.94-2.06-.94 2.06-2.06.94z\"/><path d=\"M17.41 7.96l-1.37-1.37c-.4-.4-.92-.59-1.43-.59-.52 0-1.04.2-1.43.59L10.3 9.45l-7.72 7.72c-.78.78-.78 2.05 0 2.83L4 21.41c.39.39.9.59 1.41.59.51 0 1.02-.2 1.41-.59l7.78-7.78 2.81-2.81c.8-.78.8-2.07 0-2.86zM5.41 20L4 18.59l7.72-7.72 1.47 1.35L5.41 20z\"/>\n",
              "  </svg>\n",
              "      </button>\n",
              "      \n",
              "  <style>\n",
              "    .colab-df-container {\n",
              "      display:flex;\n",
              "      flex-wrap:wrap;\n",
              "      gap: 12px;\n",
              "    }\n",
              "\n",
              "    .colab-df-convert {\n",
              "      background-color: #E8F0FE;\n",
              "      border: none;\n",
              "      border-radius: 50%;\n",
              "      cursor: pointer;\n",
              "      display: none;\n",
              "      fill: #1967D2;\n",
              "      height: 32px;\n",
              "      padding: 0 0 0 0;\n",
              "      width: 32px;\n",
              "    }\n",
              "\n",
              "    .colab-df-convert:hover {\n",
              "      background-color: #E2EBFA;\n",
              "      box-shadow: 0px 1px 2px rgba(60, 64, 67, 0.3), 0px 1px 3px 1px rgba(60, 64, 67, 0.15);\n",
              "      fill: #174EA6;\n",
              "    }\n",
              "\n",
              "    [theme=dark] .colab-df-convert {\n",
              "      background-color: #3B4455;\n",
              "      fill: #D2E3FC;\n",
              "    }\n",
              "\n",
              "    [theme=dark] .colab-df-convert:hover {\n",
              "      background-color: #434B5C;\n",
              "      box-shadow: 0px 1px 3px 1px rgba(0, 0, 0, 0.15);\n",
              "      filter: drop-shadow(0px 1px 2px rgba(0, 0, 0, 0.3));\n",
              "      fill: #FFFFFF;\n",
              "    }\n",
              "  </style>\n",
              "\n",
              "      <script>\n",
              "        const buttonEl =\n",
              "          document.querySelector('#df-db9d60a4-4a91-455e-bb60-3aac03373d22 button.colab-df-convert');\n",
              "        buttonEl.style.display =\n",
              "          google.colab.kernel.accessAllowed ? 'block' : 'none';\n",
              "\n",
              "        async function convertToInteractive(key) {\n",
              "          const element = document.querySelector('#df-db9d60a4-4a91-455e-bb60-3aac03373d22');\n",
              "          const dataTable =\n",
              "            await google.colab.kernel.invokeFunction('convertToInteractive',\n",
              "                                                     [key], {});\n",
              "          if (!dataTable) return;\n",
              "\n",
              "          const docLinkHtml = 'Like what you see? Visit the ' +\n",
              "            '<a target=\"_blank\" href=https://colab.research.google.com/notebooks/data_table.ipynb>data table notebook</a>'\n",
              "            + ' to learn more about interactive tables.';\n",
              "          element.innerHTML = '';\n",
              "          dataTable['output_type'] = 'display_data';\n",
              "          await google.colab.output.renderOutput(dataTable, element);\n",
              "          const docLink = document.createElement('div');\n",
              "          docLink.innerHTML = docLinkHtml;\n",
              "          element.appendChild(docLink);\n",
              "        }\n",
              "      </script>\n",
              "    </div>\n",
              "  </div>\n",
              "  "
            ]
          },
          "metadata": {},
          "execution_count": 11
        }
      ]
    },
    {
      "cell_type": "code",
      "source": [
        "# Relembrando o groupby\n",
        "media_mensal = base.groupby('mes')['Curtidas'].mean()\n",
        "print(media_mensal)"
      ],
      "metadata": {
        "colab": {
          "base_uri": "https://localhost:8080/"
        },
        "id": "ysCDCvxNEhID",
        "outputId": "17d245c8-465d-403f-8d11-a69a1cb77883"
      },
      "execution_count": null,
      "outputs": [
        {
          "output_type": "stream",
          "name": "stdout",
          "text": [
            "mes\n",
            "202109     6181.500000\n",
            "202110    13390.400000\n",
            "202111     4682.000000\n",
            "202112    11863.833333\n",
            "202201    15913.285714\n",
            "202202    17081.363636\n",
            "202203    13299.555556\n",
            "Name: Curtidas, dtype: float64\n"
          ]
        }
      ]
    },
    {
      "cell_type": "code",
      "source": [
        "# O groupby vai ter o index\n",
        "media_mensal.index"
      ],
      "metadata": {
        "colab": {
          "base_uri": "https://localhost:8080/"
        },
        "id": "KT-5MvYeEzTt",
        "outputId": "f7f91dc8-528e-460a-bd68-7f6cce09a861"
      },
      "execution_count": null,
      "outputs": [
        {
          "output_type": "execute_result",
          "data": {
            "text/plain": [
              "Int64Index([202109, 202110, 202111, 202112, 202201, 202202, 202203], dtype='int64', name='mes')"
            ]
          },
          "metadata": {},
          "execution_count": 13
        }
      ]
    },
    {
      "cell_type": "code",
      "source": [
        "# E os valores\n",
        "media_mensal.values"
      ],
      "metadata": {
        "colab": {
          "base_uri": "https://localhost:8080/"
        },
        "id": "A0E_JWfbE5sn",
        "outputId": "7a96cb3b-ad88-46f1-b7e4-308931374411"
      },
      "execution_count": null,
      "outputs": [
        {
          "output_type": "execute_result",
          "data": {
            "text/plain": [
              "array([ 6181.5       , 13390.4       ,  4682.        , 11863.83333333,\n",
              "       15913.28571429, 17081.36363636, 13299.55555556])"
            ]
          },
          "metadata": {},
          "execution_count": 14
        }
      ]
    },
    {
      "cell_type": "markdown",
      "source": [
        "E podemos usar exatamente essas informações para criar o nosso gráfico"
      ],
      "metadata": {
        "id": "u0wBS-dRE_Id"
      }
    },
    {
      "cell_type": "code",
      "source": [
        "# make data\n",
        "x = media_mensal.index\n",
        "y = media_mensal.values\n",
        "\n",
        "# plot\n",
        "fig, ax = plt.subplots()\n",
        "\n",
        "ax.plot(x, y, linewidth=2.0)\n",
        "\n",
        "plt.show()"
      ],
      "metadata": {
        "colab": {
          "base_uri": "https://localhost:8080/",
          "height": 265
        },
        "id": "glT0_2BVFEeF",
        "outputId": "444d3f19-6537-4006-ecd2-d9b386dc2a4d"
      },
      "execution_count": null,
      "outputs": [
        {
          "output_type": "display_data",
          "data": {
            "text/plain": [
              "<Figure size 432x288 with 1 Axes>"
            ],
            "image/png": "[encoded data removed]"
          },
          "metadata": {
            "needs_background": "light"
          }
        }
      ]
    },
    {
      "cell_type": "code",
      "source": [
        "# make data\n",
        "x = media_mensal.index.astype(str)\n",
        "y = media_mensal.values\n",
        "\n",
        "# plot\n",
        "fig, ax = plt.subplots()\n",
        "\n",
        "ax.plot(x, y, linewidth=2.0)\n",
        "\n",
        "plt.show()"
      ],
      "metadata": {
        "colab": {
          "base_uri": "https://localhost:8080/",
          "height": 265
        },
        "id": "daFJf7K0GXVi",
        "outputId": "4f8ba3c4-f2f0-48d3-acd8-48760e5a5a30"
      },
      "execution_count": null,
      "outputs": [
        {
          "output_type": "display_data",
          "data": {
            "text/plain": [
              "<Figure size 432x288 with 1 Axes>"
            ],
            "image/png": "[encoded data removed]"
          },
          "metadata": {
            "needs_background": "light"
          }
        }
      ]
    },
    {
      "cell_type": "markdown",
      "source": [
        "Adicionando novos dados nesse gráfico"
      ],
      "metadata": {
        "id": "aGDweX5MHUAH"
      }
    },
    {
      "cell_type": "code",
      "source": [
        "# Fazendo para o mínimo e máximo de curtidas\n",
        "minimo = base.groupby('mes')['Curtidas'].min()\n",
        "maximo = base.groupby('mes')['Curtidas'].max()"
      ],
      "metadata": {
        "id": "YPXuP-OAHTok"
      },
      "execution_count": null,
      "outputs": []
    },
    {
      "cell_type": "code",
      "source": [
        "# make data\n",
        "x = media_mensal.index.astype(str)\n",
        "y = media_mensal.values\n",
        "x1 = minimo.index.astype(str)\n",
        "y1 = minimo.values\n",
        "x2 = maximo.index.astype(str)\n",
        "y2 = maximo.values\n",
        "\n",
        "# plot\n",
        "fig, ax = plt.subplots()\n",
        "\n",
        "ax.plot(x, y, linewidth=2.0)\n",
        "ax.plot(x1, y1, linewidth=2.0, color='r')\n",
        "ax.plot(x2, y2, linewidth=2.0, color='g')\n",
        "\n",
        "plt.show()"
      ],
      "metadata": {
        "colab": {
          "base_uri": "https://localhost:8080/",
          "height": 265
        },
        "id": "SFVzdH5XHpq2",
        "outputId": "95c253f4-4a0c-472c-ea04-61b8fd41e97a"
      },
      "execution_count": null,
      "outputs": [
        {
          "output_type": "display_data",
          "data": {
            "text/plain": [
              "<Figure size 432x288 with 1 Axes>"
            ],
            "image/png": "[encoded data removed]"
          },
          "metadata": {
            "needs_background": "light"
          }
        }
      ]
    },
    {
      "cell_type": "markdown",
      "source": [
        "Entendendo os dados dos últimos 2 meses"
      ],
      "metadata": {
        "id": "xoKLjzg6KxW6"
      }
    },
    {
      "cell_type": "code",
      "source": [
        "base[(base.mes >= 202202)].sort_values(['mes', 'Curtidas'],ascending=False)"
      ],
      "metadata": {
        "colab": {
          "base_uri": "https://localhost:8080/",
          "height": 676
        },
        "id": "jzDtWNQpK1rl",
        "outputId": "8b0216d0-92c6-40de-eaa9-997c6e95762b"
      },
      "execution_count": null,
      "outputs": [
        {
          "output_type": "execute_result",
          "data": {
            "text/plain": [
              "     Tipo       Data  Curtidas  Comentários  \\\n",
              "48   Foto 2022-03-20     29084          479   \n",
              "43   Foto 2022-03-04     24399          266   \n",
              "45  Reels 2022-03-08     19621          275   \n",
              "50   Foto 2022-03-26     16551          186   \n",
              "49   Foto 2022-03-22      9087          106   \n",
              "44   IGTV 2022-03-07      5918          116   \n",
              "47   IGTV 2022-03-12      5489           77   \n",
              "51   IGTV 2022-03-27      4934           65   \n",
              "46   Foto 2022-03-09      4613           50   \n",
              "39   Foto 2022-02-17     37351          502   \n",
              "33   Foto 2022-02-06     24655          186   \n",
              "40   Foto 2022-02-21     21621          213   \n",
              "34   Foto 2022-02-09     20660          292   \n",
              "38   Foto 2022-02-15     17687          213   \n",
              "37  Vídeo 2022-02-13     15219          357   \n",
              "41   Foto 2022-02-22     12530           90   \n",
              "36   Foto 2022-02-12     11802          102   \n",
              "32   IGTV 2022-02-04      9270          222   \n",
              "35   IGTV 2022-02-10      8556          188   \n",
              "42   Foto 2022-02-26      8544           72   \n",
              "\n",
              "                                 Tags Pessoas Campanhas Carrossel  \\\n",
              "48      Datas comemorativas/Promoções       S         S         N   \n",
              "43                                NaN       S         S         N   \n",
              "45                             Trends       S         S         N   \n",
              "50                                NaN       S         N         N   \n",
              "49                                NaN       S         S         N   \n",
              "44  Dicas de como usar/Novos Produtos       S         N         N   \n",
              "47  Dicas de como usar/Novos Produtos       S         N         N   \n",
              "51        Dicas de como usar/Produtos       S         N         N   \n",
              "46                    Influenciadores       S         N         N   \n",
              "39                          Promoções       S         S         N   \n",
              "33                    Influenciadores       S         S         N   \n",
              "40                    Influenciadores       S         S         S   \n",
              "34                    Influenciadores       S         S         N   \n",
              "38                                NaN       S         N         N   \n",
              "37                Datas comemorativas       S         S         N   \n",
              "41                                NaN       S         N         N   \n",
              "36                           Produtos       S         S         N   \n",
              "32        Dicas de como usar/Produtos       S         N         N   \n",
              "35        Dicas de como usar/Produtos       S         N         N   \n",
              "42                    Influenciadores       S         S         N   \n",
              "\n",
              "    Interacoes      mes  \n",
              "48        29563  202203  \n",
              "43        24665  202203  \n",
              "45        19896  202203  \n",
              "50        16737  202203  \n",
              "49         9193  202203  \n",
              "44         6034  202203  \n",
              "47         5566  202203  \n",
              "51         4999  202203  \n",
              "46         4663  202203  \n",
              "39        37853  202202  \n",
              "33        24841  202202  \n",
              "40        21834  202202  \n",
              "34        20952  202202  \n",
              "38        17900  202202  \n",
              "37        15576  202202  \n",
              "41        12620  202202  \n",
              "36        11904  202202  \n",
              "32         9492  202202  \n",
              "35         8744  202202  \n",
              "42         8616  202202  "
            ],
            "text/html": [
              "\n",
              "  <div id=\"df-8b0103a6-5b0a-40ba-8358-e01ac6eb4bf7\">\n",
              "    <div class=\"colab-df-container\">\n",
              "      <div>\n",
              "<style scoped>\n",
              "    .dataframe tbody tr th:only-of-type {\n",
              "        vertical-align: middle;\n",
              "    }\n",
              "\n",
              "    .dataframe tbody tr th {\n",
              "        vertical-align: top;\n",
              "    }\n",
              "\n",
              "    .dataframe thead th {\n",
              "        text-align: right;\n",
              "    }\n",
              "</style>\n",
              "<table border=\"1\" class=\"dataframe\">\n",
              "  <thead>\n",
              "    <tr style=\"text-align: right;\">\n",
              "      <th></th>\n",
              "      <th>Tipo</th>\n",
              "      <th>Data</th>\n",
              "      <th>Curtidas</th>\n",
              "      <th>Comentários</th>\n",
              "      <th>Tags</th>\n",
              "      <th>Pessoas</th>\n",
              "      <th>Campanhas</th>\n",
              "      <th>Carrossel</th>\n",
              "      <th>Interacoes</th>\n",
              "      <th>mes</th>\n",
              "    </tr>\n",
              "  </thead>\n",
              "  <tbody>\n",
              "    <tr>\n",
              "      <th>48</th>\n",
              "      <td>Foto</td>\n",
              "      <td>2022-03-20</td>\n",
              "      <td>29084</td>\n",
              "      <td>479</td>\n",
              "      <td>Datas comemorativas/Promoções</td>\n",
              "      <td>S</td>\n",
              "      <td>S</td>\n",
              "      <td>N</td>\n",
              "      <td>29563</td>\n",
              "      <td>202203</td>\n",
              "    </tr>\n",
              "    <tr>\n",
              "      <th>43</th>\n",
              "      <td>Foto</td>\n",
              "      <td>2022-03-04</td>\n",
              "      <td>24399</td>\n",
              "      <td>266</td>\n",
              "      <td>NaN</td>\n",
              "      <td>S</td>\n",
              "      <td>S</td>\n",
              "      <td>N</td>\n",
              "      <td>24665</td>\n",
              "      <td>202203</td>\n",
              "    </tr>\n",
              "    <tr>\n",
              "      <th>45</th>\n",
              "      <td>Reels</td>\n",
              "      <td>2022-03-08</td>\n",
              "      <td>19621</td>\n",
              "      <td>275</td>\n",
              "      <td>Trends</td>\n",
              "      <td>S</td>\n",
              "      <td>S</td>\n",
              "      <td>N</td>\n",
              "      <td>19896</td>\n",
              "      <td>202203</td>\n",
              "    </tr>\n",
              "    <tr>\n",
              "      <th>50</th>\n",
              "      <td>Foto</td>\n",
              "      <td>2022-03-26</td>\n",
              "      <td>16551</td>\n",
              "      <td>186</td>\n",
              "      <td>NaN</td>\n",
              "      <td>S</td>\n",
              "      <td>N</td>\n",
              "      <td>N</td>\n",
              "      <td>16737</td>\n",
              "      <td>202203</td>\n",
              "    </tr>\n",
              "    <tr>\n",
              "      <th>49</th>\n",
              "      <td>Foto</td>\n",
              "      <td>2022-03-22</td>\n",
              "      <td>9087</td>\n",
              "      <td>106</td>\n",
              "      <td>NaN</td>\n",
              "      <td>S</td>\n",
              "      <td>S</td>\n",
              "      <td>N</td>\n",
              "      <td>9193</td>\n",
              "      <td>202203</td>\n",
              "    </tr>\n",
              "    <tr>\n",
              "      <th>44</th>\n",
              "      <td>IGTV</td>\n",
              "      <td>2022-03-07</td>\n",
              "      <td>5918</td>\n",
              "      <td>116</td>\n",
              "      <td>Dicas de como usar/Novos Produtos</td>\n",
              "      <td>S</td>\n",
              "      <td>N</td>\n",
              "      <td>N</td>\n",
              "      <td>6034</td>\n",
              "      <td>202203</td>\n",
              "    </tr>\n",
              "    <tr>\n",
              "      <th>47</th>\n",
              "      <td>IGTV</td>\n",
              "      <td>2022-03-12</td>\n",
              "      <td>5489</td>\n",
              "      <td>77</td>\n",
              "      <td>Dicas de como usar/Novos Produtos</td>\n",
              "      <td>S</td>\n",
              "      <td>N</td>\n",
              "      <td>N</td>\n",
              "      <td>5566</td>\n",
              "      <td>202203</td>\n",
              "    </tr>\n",
              "    <tr>\n",
              "      <th>51</th>\n",
              "      <td>IGTV</td>\n",
              "      <td>2022-03-27</td>\n",
              "      <td>4934</td>\n",
              "      <td>65</td>\n",
              "      <td>Dicas de como usar/Produtos</td>\n",
              "      <td>S</td>\n",
              "      <td>N</td>\n",
              "      <td>N</td>\n",
              "      <td>4999</td>\n",
              "      <td>202203</td>\n",
              "    </tr>\n",
              "    <tr>\n",
              "      <th>46</th>\n",
              "      <td>Foto</td>\n",
              "      <td>2022-03-09</td>\n",
              "      <td>4613</td>\n",
              "      <td>50</td>\n",
              "      <td>Influenciadores</td>\n",
              "      <td>S</td>\n",
              "      <td>N</td>\n",
              "      <td>N</td>\n",
              "      <td>4663</td>\n",
              "      <td>202203</td>\n",
              "    </tr>\n",
              "    <tr>\n",
              "      <th>39</th>\n",
              "      <td>Foto</td>\n",
              "      <td>2022-02-17</td>\n",
              "      <td>37351</td>\n",
              "      <td>502</td>\n",
              "      <td>Promoções</td>\n",
              "      <td>S</td>\n",
              "      <td>S</td>\n",
              "      <td>N</td>\n",
              "      <td>37853</td>\n",
              "      <td>202202</td>\n",
              "    </tr>\n",
              "    <tr>\n",
              "      <th>33</th>\n",
              "      <td>Foto</td>\n",
              "      <td>2022-02-06</td>\n",
              "      <td>24655</td>\n",
              "      <td>186</td>\n",
              "      <td>Influenciadores</td>\n",
              "      <td>S</td>\n",
              "      <td>S</td>\n",
              "      <td>N</td>\n",
              "      <td>24841</td>\n",
              "      <td>202202</td>\n",
              "    </tr>\n",
              "    <tr>\n",
              "      <th>40</th>\n",
              "      <td>Foto</td>\n",
              "      <td>2022-02-21</td>\n",
              "      <td>21621</td>\n",
              "      <td>213</td>\n",
              "      <td>Influenciadores</td>\n",
              "      <td>S</td>\n",
              "      <td>S</td>\n",
              "      <td>S</td>\n",
              "      <td>21834</td>\n",
              "      <td>202202</td>\n",
              "    </tr>\n",
              "    <tr>\n",
              "      <th>34</th>\n",
              "      <td>Foto</td>\n",
              "      <td>2022-02-09</td>\n",
              "      <td>20660</td>\n",
              "      <td>292</td>\n",
              "      <td>Influenciadores</td>\n",
              "      <td>S</td>\n",
              "      <td>S</td>\n",
              "      <td>N</td>\n",
              "      <td>20952</td>\n",
              "      <td>202202</td>\n",
              "    </tr>\n",
              "    <tr>\n",
              "      <th>38</th>\n",
              "      <td>Foto</td>\n",
              "      <td>2022-02-15</td>\n",
              "      <td>17687</td>\n",
              "      <td>213</td>\n",
              "      <td>NaN</td>\n",
              "      <td>S</td>\n",
              "      <td>N</td>\n",
              "      <td>N</td>\n",
              "      <td>17900</td>\n",
              "      <td>202202</td>\n",
              "    </tr>\n",
              "    <tr>\n",
              "      <th>37</th>\n",
              "      <td>Vídeo</td>\n",
              "      <td>2022-02-13</td>\n",
              "      <td>15219</td>\n",
              "      <td>357</td>\n",
              "      <td>Datas comemorativas</td>\n",
              "      <td>S</td>\n",
              "      <td>S</td>\n",
              "      <td>N</td>\n",
              "      <td>15576</td>\n",
              "      <td>202202</td>\n",
              "    </tr>\n",
              "    <tr>\n",
              "      <th>41</th>\n",
              "      <td>Foto</td>\n",
              "      <td>2022-02-22</td>\n",
              "      <td>12530</td>\n",
              "      <td>90</td>\n",
              "      <td>NaN</td>\n",
              "      <td>S</td>\n",
              "      <td>N</td>\n",
              "      <td>N</td>\n",
              "      <td>12620</td>\n",
              "      <td>202202</td>\n",
              "    </tr>\n",
              "    <tr>\n",
              "      <th>36</th>\n",
              "      <td>Foto</td>\n",
              "      <td>2022-02-12</td>\n",
              "      <td>11802</td>\n",
              "      <td>102</td>\n",
              "      <td>Produtos</td>\n",
              "      <td>S</td>\n",
              "      <td>S</td>\n",
              "      <td>N</td>\n",
              "      <td>11904</td>\n",
              "      <td>202202</td>\n",
              "    </tr>\n",
              "    <tr>\n",
              "      <th>32</th>\n",
              "      <td>IGTV</td>\n",
              "      <td>2022-02-04</td>\n",
              "      <td>9270</td>\n",
              "      <td>222</td>\n",
              "      <td>Dicas de como usar/Produtos</td>\n",
              "      <td>S</td>\n",
              "      <td>N</td>\n",
              "      <td>N</td>\n",
              "      <td>9492</td>\n",
              "      <td>202202</td>\n",
              "    </tr>\n",
              "    <tr>\n",
              "      <th>35</th>\n",
              "      <td>IGTV</td>\n",
              "      <td>2022-02-10</td>\n",
              "      <td>8556</td>\n",
              "      <td>188</td>\n",
              "      <td>Dicas de como usar/Produtos</td>\n",
              "      <td>S</td>\n",
              "      <td>N</td>\n",
              "      <td>N</td>\n",
              "      <td>8744</td>\n",
              "      <td>202202</td>\n",
              "    </tr>\n",
              "    <tr>\n",
              "      <th>42</th>\n",
              "      <td>Foto</td>\n",
              "      <td>2022-02-26</td>\n",
              "      <td>8544</td>\n",
              "      <td>72</td>\n",
              "      <td>Influenciadores</td>\n",
              "      <td>S</td>\n",
              "      <td>S</td>\n",
              "      <td>N</td>\n",
              "      <td>8616</td>\n",
              "      <td>202202</td>\n",
              "    </tr>\n",
              "  </tbody>\n",
              "</table>\n",
              "</div>\n",
              "      <button class=\"colab-df-convert\" onclick=\"convertToInteractive('df-8b0103a6-5b0a-40ba-8358-e01ac6eb4bf7')\"\n",
              "              title=\"Convert this dataframe to an interactive table.\"\n",
              "              style=\"display:none;\">\n",
              "        \n",
              "  <svg xmlns=\"http://www.w3.org/2000/svg\" height=\"24px\"viewBox=\"0 0 24 24\"\n",
              "       width=\"24px\">\n",
              "    <path d=\"M0 0h24v24H0V0z\" fill=\"none\"/>\n",
              "    <path d=\"M18.56 5.44l.94 2.06.94-2.06 2.06-.94-2.06-.94-.94-2.06-.94 2.06-2.06.94zm-11 1L8.5 8.5l.94-2.06 2.06-.94-2.06-.94L8.5 2.5l-.94 2.06-2.06.94zm10 10l.94 2.06.94-2.06 2.06-.94-2.06-.94-.94-2.06-.94 2.06-2.06.94z\"/><path d=\"M17.41 7.96l-1.37-1.37c-.4-.4-.92-.59-1.43-.59-.52 0-1.04.2-1.43.59L10.3 9.45l-7.72 7.72c-.78.78-.78 2.05 0 2.83L4 21.41c.39.39.9.59 1.41.59.51 0 1.02-.2 1.41-.59l7.78-7.78 2.81-2.81c.8-.78.8-2.07 0-2.86zM5.41 20L4 18.59l7.72-7.72 1.47 1.35L5.41 20z\"/>\n",
              "  </svg>\n",
              "      </button>\n",
              "      \n",
              "  <style>\n",
              "    .colab-df-container {\n",
              "      display:flex;\n",
              "      flex-wrap:wrap;\n",
              "      gap: 12px;\n",
              "    }\n",
              "\n",
              "    .colab-df-convert {\n",
              "      background-color: #E8F0FE;\n",
              "      border: none;\n",
              "      border-radius: 50%;\n",
              "      cursor: pointer;\n",
              "      display: none;\n",
              "      fill: #1967D2;\n",
              "      height: 32px;\n",
              "      padding: 0 0 0 0;\n",
              "      width: 32px;\n",
              "    }\n",
              "\n",
              "    .colab-df-convert:hover {\n",
              "      background-color: #E2EBFA;\n",
              "      box-shadow: 0px 1px 2px rgba(60, 64, 67, 0.3), 0px 1px 3px 1px rgba(60, 64, 67, 0.15);\n",
              "      fill: #174EA6;\n",
              "    }\n",
              "\n",
              "    [theme=dark] .colab-df-convert {\n",
              "      background-color: #3B4455;\n",
              "      fill: #D2E3FC;\n",
              "    }\n",
              "\n",
              "    [theme=dark] .colab-df-convert:hover {\n",
              "      background-color: #434B5C;\n",
              "      box-shadow: 0px 1px 3px 1px rgba(0, 0, 0, 0.15);\n",
              "      filter: drop-shadow(0px 1px 2px rgba(0, 0, 0, 0.3));\n",
              "      fill: #FFFFFF;\n",
              "    }\n",
              "  </style>\n",
              "\n",
              "      <script>\n",
              "        const buttonEl =\n",
              "          document.querySelector('#df-8b0103a6-5b0a-40ba-8358-e01ac6eb4bf7 button.colab-df-convert');\n",
              "        buttonEl.style.display =\n",
              "          google.colab.kernel.accessAllowed ? 'block' : 'none';\n",
              "\n",
              "        async function convertToInteractive(key) {\n",
              "          const element = document.querySelector('#df-8b0103a6-5b0a-40ba-8358-e01ac6eb4bf7');\n",
              "          const dataTable =\n",
              "            await google.colab.kernel.invokeFunction('convertToInteractive',\n",
              "                                                     [key], {});\n",
              "          if (!dataTable) return;\n",
              "\n",
              "          const docLinkHtml = 'Like what you see? Visit the ' +\n",
              "            '<a target=\"_blank\" href=https://colab.research.google.com/notebooks/data_table.ipynb>data table notebook</a>'\n",
              "            + ' to learn more about interactive tables.';\n",
              "          element.innerHTML = '';\n",
              "          dataTable['output_type'] = 'display_data';\n",
              "          await google.colab.output.renderOutput(dataTable, element);\n",
              "          const docLink = document.createElement('div');\n",
              "          docLink.innerHTML = docLinkHtml;\n",
              "          element.appendChild(docLink);\n",
              "        }\n",
              "      </script>\n",
              "    </div>\n",
              "  </div>\n",
              "  "
            ]
          },
          "metadata": {},
          "execution_count": 19
        }
      ]
    },
    {
      "cell_type": "markdown",
      "source": [
        "Aconteceu um post patrocinado que aumentou muito as vendas de fevereiro.\n",
        "Foi a única vez que tivemos post patrocinado? Vamos buscar isso nas tags.\n",
        "\n",
        "*   Podemos usar o contains para procurar a palavra patrocinado nas tags\n",
        "> Porém o contains não aceita se tiver valores NaN, então precisamos tratar isso antes\n"
      ],
      "metadata": {
        "id": "YAySVaN-L-Fq"
      }
    },
    {
      "cell_type": "code",
      "source": [
        "# Tentando usar o contains sem tratar os valores NaN\n",
        "base[base.Tags.str.contains('Promoções')]"
      ],
      "metadata": {
        "colab": {
          "base_uri": "https://localhost:8080/",
          "height": 329
        },
        "id": "LFz6j5lYOAA6",
        "outputId": "7e94a810-6c1c-4dab-be29-dc3d98577826"
      },
      "execution_count": null,
      "outputs": [
        {
          "output_type": "error",
          "ename": "ValueError",
          "evalue": "ignored",
          "traceback": [
            "\u001b[0;31m---------------------------------------------------------------------------\u001b[0m",
            "\u001b[0;31mValueError\u001b[0m                                Traceback (most recent call last)",
            "\u001b[0;32m<ipython-input-20-ed949a2bedc3>\u001b[0m in \u001b[0;36m<module>\u001b[0;34m\u001b[0m\n\u001b[1;32m      1\u001b[0m \u001b[0;31m# Tentando usar o contains sem tratar os valores NaN\u001b[0m\u001b[0;34m\u001b[0m\u001b[0;34m\u001b[0m\u001b[0;34m\u001b[0m\u001b[0m\n\u001b[0;32m----> 2\u001b[0;31m \u001b[0mbase\u001b[0m\u001b[0;34m[\u001b[0m\u001b[0mbase\u001b[0m\u001b[0;34m.\u001b[0m\u001b[0mTags\u001b[0m\u001b[0;34m.\u001b[0m\u001b[0mstr\u001b[0m\u001b[0;34m.\u001b[0m\u001b[0mcontains\u001b[0m\u001b[0;34m(\u001b[0m\u001b[0;34m'Promoções'\u001b[0m\u001b[0;34m)\u001b[0m\u001b[0;34m]\u001b[0m\u001b[0;34m\u001b[0m\u001b[0;34m\u001b[0m\u001b[0m\n\u001b[0m",
            "\u001b[0;32m/usr/local/lib/python3.7/dist-packages/pandas/core/frame.py\u001b[0m in \u001b[0;36m__getitem__\u001b[0;34m(self, key)\u001b[0m\n\u001b[1;32m   3446\u001b[0m \u001b[0;34m\u001b[0m\u001b[0m\n\u001b[1;32m   3447\u001b[0m         \u001b[0;31m# Do we have a (boolean) 1d indexer?\u001b[0m\u001b[0;34m\u001b[0m\u001b[0;34m\u001b[0m\u001b[0;34m\u001b[0m\u001b[0m\n\u001b[0;32m-> 3448\u001b[0;31m         \u001b[0;32mif\u001b[0m \u001b[0mcom\u001b[0m\u001b[0;34m.\u001b[0m\u001b[0mis_bool_indexer\u001b[0m\u001b[0;34m(\u001b[0m\u001b[0mkey\u001b[0m\u001b[0;34m)\u001b[0m\u001b[0;34m:\u001b[0m\u001b[0;34m\u001b[0m\u001b[0;34m\u001b[0m\u001b[0m\n\u001b[0m\u001b[1;32m   3449\u001b[0m             \u001b[0;32mreturn\u001b[0m \u001b[0mself\u001b[0m\u001b[0;34m.\u001b[0m\u001b[0m_getitem_bool_array\u001b[0m\u001b[0;34m(\u001b[0m\u001b[0mkey\u001b[0m\u001b[0;34m)\u001b[0m\u001b[0;34m\u001b[0m\u001b[0;34m\u001b[0m\u001b[0m\n\u001b[1;32m   3450\u001b[0m \u001b[0;34m\u001b[0m\u001b[0m\n",
            "\u001b[0;32m/usr/local/lib/python3.7/dist-packages/pandas/core/common.py\u001b[0m in \u001b[0;36mis_bool_indexer\u001b[0;34m(key)\u001b[0m\n\u001b[1;32m    137\u001b[0m                     \u001b[0;31m# Don't raise on e.g. [\"A\", \"B\", np.nan], see\u001b[0m\u001b[0;34m\u001b[0m\u001b[0;34m\u001b[0m\u001b[0;34m\u001b[0m\u001b[0m\n\u001b[1;32m    138\u001b[0m                     \u001b[0;31m#  test_loc_getitem_list_of_labels_categoricalindex_with_na\u001b[0m\u001b[0;34m\u001b[0m\u001b[0;34m\u001b[0m\u001b[0;34m\u001b[0m\u001b[0m\n\u001b[0;32m--> 139\u001b[0;31m                     \u001b[0;32mraise\u001b[0m \u001b[0mValueError\u001b[0m\u001b[0;34m(\u001b[0m\u001b[0mna_msg\u001b[0m\u001b[0;34m)\u001b[0m\u001b[0;34m\u001b[0m\u001b[0;34m\u001b[0m\u001b[0m\n\u001b[0m\u001b[1;32m    140\u001b[0m                 \u001b[0;32mreturn\u001b[0m \u001b[0;32mFalse\u001b[0m\u001b[0;34m\u001b[0m\u001b[0;34m\u001b[0m\u001b[0m\n\u001b[1;32m    141\u001b[0m             \u001b[0;32mreturn\u001b[0m \u001b[0;32mTrue\u001b[0m\u001b[0;34m\u001b[0m\u001b[0;34m\u001b[0m\u001b[0m\n",
            "\u001b[0;31mValueError\u001b[0m: Cannot mask with non-boolean array containing NA / NaN values"
          ]
        }
      ]
    },
    {
      "cell_type": "code",
      "source": [
        "# O '.fillna()' vai substituir os valores NaN pelo novo valor que passarmos\n",
        "base.fillna('').tail()"
      ],
      "metadata": {
        "colab": {
          "base_uri": "https://localhost:8080/",
          "height": 206
        },
        "id": "lu9L4z1pPPMZ",
        "outputId": "d1650173-dc3c-4ddc-d500-056e3d0e2432"
      },
      "execution_count": null,
      "outputs": [
        {
          "output_type": "execute_result",
          "data": {
            "text/plain": [
              "    Tipo       Data  Curtidas  Comentários                               Tags  \\\n",
              "47  IGTV 2022-03-12      5489           77  Dicas de como usar/Novos Produtos   \n",
              "48  Foto 2022-03-20     29084          479      Datas comemorativas/Promoções   \n",
              "49  Foto 2022-03-22      9087          106                                      \n",
              "50  Foto 2022-03-26     16551          186                                      \n",
              "51  IGTV 2022-03-27      4934           65        Dicas de como usar/Produtos   \n",
              "\n",
              "   Pessoas Campanhas Carrossel  Interacoes      mes  \n",
              "47       S         N         N         5566  202203  \n",
              "48       S         S         N        29563  202203  \n",
              "49       S         S         N         9193  202203  \n",
              "50       S         N         N        16737  202203  \n",
              "51       S         N         N         4999  202203  "
            ],
            "text/html": [
              "\n",
              "  <div id=\"df-eb28281d-9923-4a45-afbf-4d9aea7d10cf\">\n",
              "    <div class=\"colab-df-container\">\n",
              "      <div>\n",
              "<style scoped>\n",
              "    .dataframe tbody tr th:only-of-type {\n",
              "        vertical-align: middle;\n",
              "    }\n",
              "\n",
              "    .dataframe tbody tr th {\n",
              "        vertical-align: top;\n",
              "    }\n",
              "\n",
              "    .dataframe thead th {\n",
              "        text-align: right;\n",
              "    }\n",
              "</style>\n",
              "<table border=\"1\" class=\"dataframe\">\n",
              "  <thead>\n",
              "    <tr style=\"text-align: right;\">\n",
              "      <th></th>\n",
              "      <th>Tipo</th>\n",
              "      <th>Data</th>\n",
              "      <th>Curtidas</th>\n",
              "      <th>Comentários</th>\n",
              "      <th>Tags</th>\n",
              "      <th>Pessoas</th>\n",
              "      <th>Campanhas</th>\n",
              "      <th>Carrossel</th>\n",
              "      <th>Interacoes</th>\n",
              "      <th>mes</th>\n",
              "    </tr>\n",
              "  </thead>\n",
              "  <tbody>\n",
              "    <tr>\n",
              "      <th>47</th>\n",
              "      <td>IGTV</td>\n",
              "      <td>2022-03-12</td>\n",
              "      <td>5489</td>\n",
              "      <td>77</td>\n",
              "      <td>Dicas de como usar/Novos Produtos</td>\n",
              "      <td>S</td>\n",
              "      <td>N</td>\n",
              "      <td>N</td>\n",
              "      <td>5566</td>\n",
              "      <td>202203</td>\n",
              "    </tr>\n",
              "    <tr>\n",
              "      <th>48</th>\n",
              "      <td>Foto</td>\n",
              "      <td>2022-03-20</td>\n",
              "      <td>29084</td>\n",
              "      <td>479</td>\n",
              "      <td>Datas comemorativas/Promoções</td>\n",
              "      <td>S</td>\n",
              "      <td>S</td>\n",
              "      <td>N</td>\n",
              "      <td>29563</td>\n",
              "      <td>202203</td>\n",
              "    </tr>\n",
              "    <tr>\n",
              "      <th>49</th>\n",
              "      <td>Foto</td>\n",
              "      <td>2022-03-22</td>\n",
              "      <td>9087</td>\n",
              "      <td>106</td>\n",
              "      <td></td>\n",
              "      <td>S</td>\n",
              "      <td>S</td>\n",
              "      <td>N</td>\n",
              "      <td>9193</td>\n",
              "      <td>202203</td>\n",
              "    </tr>\n",
              "    <tr>\n",
              "      <th>50</th>\n",
              "      <td>Foto</td>\n",
              "      <td>2022-03-26</td>\n",
              "      <td>16551</td>\n",
              "      <td>186</td>\n",
              "      <td></td>\n",
              "      <td>S</td>\n",
              "      <td>N</td>\n",
              "      <td>N</td>\n",
              "      <td>16737</td>\n",
              "      <td>202203</td>\n",
              "    </tr>\n",
              "    <tr>\n",
              "      <th>51</th>\n",
              "      <td>IGTV</td>\n",
              "      <td>2022-03-27</td>\n",
              "      <td>4934</td>\n",
              "      <td>65</td>\n",
              "      <td>Dicas de como usar/Produtos</td>\n",
              "      <td>S</td>\n",
              "      <td>N</td>\n",
              "      <td>N</td>\n",
              "      <td>4999</td>\n",
              "      <td>202203</td>\n",
              "    </tr>\n",
              "  </tbody>\n",
              "</table>\n",
              "</div>\n",
              "      <button class=\"colab-df-convert\" onclick=\"convertToInteractive('df-eb28281d-9923-4a45-afbf-4d9aea7d10cf')\"\n",
              "              title=\"Convert this dataframe to an interactive table.\"\n",
              "              style=\"display:none;\">\n",
              "        \n",
              "  <svg xmlns=\"http://www.w3.org/2000/svg\" height=\"24px\"viewBox=\"0 0 24 24\"\n",
              "       width=\"24px\">\n",
              "    <path d=\"M0 0h24v24H0V0z\" fill=\"none\"/>\n",
              "    <path d=\"M18.56 5.44l.94 2.06.94-2.06 2.06-.94-2.06-.94-.94-2.06-.94 2.06-2.06.94zm-11 1L8.5 8.5l.94-2.06 2.06-.94-2.06-.94L8.5 2.5l-.94 2.06-2.06.94zm10 10l.94 2.06.94-2.06 2.06-.94-2.06-.94-.94-2.06-.94 2.06-2.06.94z\"/><path d=\"M17.41 7.96l-1.37-1.37c-.4-.4-.92-.59-1.43-.59-.52 0-1.04.2-1.43.59L10.3 9.45l-7.72 7.72c-.78.78-.78 2.05 0 2.83L4 21.41c.39.39.9.59 1.41.59.51 0 1.02-.2 1.41-.59l7.78-7.78 2.81-2.81c.8-.78.8-2.07 0-2.86zM5.41 20L4 18.59l7.72-7.72 1.47 1.35L5.41 20z\"/>\n",
              "  </svg>\n",
              "      </button>\n",
              "      \n",
              "  <style>\n",
              "    .colab-df-container {\n",
              "      display:flex;\n",
              "      flex-wrap:wrap;\n",
              "      gap: 12px;\n",
              "    }\n",
              "\n",
              "    .colab-df-convert {\n",
              "      background-color: #E8F0FE;\n",
              "      border: none;\n",
              "      border-radius: 50%;\n",
              "      cursor: pointer;\n",
              "      display: none;\n",
              "      fill: #1967D2;\n",
              "      height: 32px;\n",
              "      padding: 0 0 0 0;\n",
              "      width: 32px;\n",
              "    }\n",
              "\n",
              "    .colab-df-convert:hover {\n",
              "      background-color: #E2EBFA;\n",
              "      box-shadow: 0px 1px 2px rgba(60, 64, 67, 0.3), 0px 1px 3px 1px rgba(60, 64, 67, 0.15);\n",
              "      fill: #174EA6;\n",
              "    }\n",
              "\n",
              "    [theme=dark] .colab-df-convert {\n",
              "      background-color: #3B4455;\n",
              "      fill: #D2E3FC;\n",
              "    }\n",
              "\n",
              "    [theme=dark] .colab-df-convert:hover {\n",
              "      background-color: #434B5C;\n",
              "      box-shadow: 0px 1px 3px 1px rgba(0, 0, 0, 0.15);\n",
              "      filter: drop-shadow(0px 1px 2px rgba(0, 0, 0, 0.3));\n",
              "      fill: #FFFFFF;\n",
              "    }\n",
              "  </style>\n",
              "\n",
              "      <script>\n",
              "        const buttonEl =\n",
              "          document.querySelector('#df-eb28281d-9923-4a45-afbf-4d9aea7d10cf button.colab-df-convert');\n",
              "        buttonEl.style.display =\n",
              "          google.colab.kernel.accessAllowed ? 'block' : 'none';\n",
              "\n",
              "        async function convertToInteractive(key) {\n",
              "          const element = document.querySelector('#df-eb28281d-9923-4a45-afbf-4d9aea7d10cf');\n",
              "          const dataTable =\n",
              "            await google.colab.kernel.invokeFunction('convertToInteractive',\n",
              "                                                     [key], {});\n",
              "          if (!dataTable) return;\n",
              "\n",
              "          const docLinkHtml = 'Like what you see? Visit the ' +\n",
              "            '<a target=\"_blank\" href=https://colab.research.google.com/notebooks/data_table.ipynb>data table notebook</a>'\n",
              "            + ' to learn more about interactive tables.';\n",
              "          element.innerHTML = '';\n",
              "          dataTable['output_type'] = 'display_data';\n",
              "          await google.colab.output.renderOutput(dataTable, element);\n",
              "          const docLink = document.createElement('div');\n",
              "          docLink.innerHTML = docLinkHtml;\n",
              "          element.appendChild(docLink);\n",
              "        }\n",
              "      </script>\n",
              "    </div>\n",
              "  </div>\n",
              "  "
            ]
          },
          "metadata": {},
          "execution_count": 22
        }
      ]
    },
    {
      "cell_type": "code",
      "source": [
        "# Então podemos usar o vazio apenas para visualizar todas as tags que possuem marcação de patrocinado\n",
        "base[base.fillna('').Tags.str.contains('Promoções')]"
      ],
      "metadata": {
        "colab": {
          "base_uri": "https://localhost:8080/",
          "height": 143
        },
        "id": "4qyRItyyP2h_",
        "outputId": "e103b1b9-6ae9-487c-9f80-643b05793e34"
      },
      "execution_count": null,
      "outputs": [
        {
          "output_type": "execute_result",
          "data": {
            "text/plain": [
              "    Tipo       Data  Curtidas  Comentários                           Tags  \\\n",
              "13  Foto 2021-10-24     15940          612                      Promoções   \n",
              "39  Foto 2022-02-17     37351          502                      Promoções   \n",
              "48  Foto 2022-03-20     29084          479  Datas comemorativas/Promoções   \n",
              "\n",
              "   Pessoas Campanhas Carrossel  Interacoes      mes  \n",
              "13       S         N         N        16552  202110  \n",
              "39       S         S         N        37853  202202  \n",
              "48       S         S         N        29563  202203  "
            ],
            "text/html": [
              "\n",
              "  <div id=\"df-c7055c2d-0c23-46c8-95b9-67e19333af35\">\n",
              "    <div class=\"colab-df-container\">\n",
              "      <div>\n",
              "<style scoped>\n",
              "    .dataframe tbody tr th:only-of-type {\n",
              "        vertical-align: middle;\n",
              "    }\n",
              "\n",
              "    .dataframe tbody tr th {\n",
              "        vertical-align: top;\n",
              "    }\n",
              "\n",
              "    .dataframe thead th {\n",
              "        text-align: right;\n",
              "    }\n",
              "</style>\n",
              "<table border=\"1\" class=\"dataframe\">\n",
              "  <thead>\n",
              "    <tr style=\"text-align: right;\">\n",
              "      <th></th>\n",
              "      <th>Tipo</th>\n",
              "      <th>Data</th>\n",
              "      <th>Curtidas</th>\n",
              "      <th>Comentários</th>\n",
              "      <th>Tags</th>\n",
              "      <th>Pessoas</th>\n",
              "      <th>Campanhas</th>\n",
              "      <th>Carrossel</th>\n",
              "      <th>Interacoes</th>\n",
              "      <th>mes</th>\n",
              "    </tr>\n",
              "  </thead>\n",
              "  <tbody>\n",
              "    <tr>\n",
              "      <th>13</th>\n",
              "      <td>Foto</td>\n",
              "      <td>2021-10-24</td>\n",
              "      <td>15940</td>\n",
              "      <td>612</td>\n",
              "      <td>Promoções</td>\n",
              "      <td>S</td>\n",
              "      <td>N</td>\n",
              "      <td>N</td>\n",
              "      <td>16552</td>\n",
              "      <td>202110</td>\n",
              "    </tr>\n",
              "    <tr>\n",
              "      <th>39</th>\n",
              "      <td>Foto</td>\n",
              "      <td>2022-02-17</td>\n",
              "      <td>37351</td>\n",
              "      <td>502</td>\n",
              "      <td>Promoções</td>\n",
              "      <td>S</td>\n",
              "      <td>S</td>\n",
              "      <td>N</td>\n",
              "      <td>37853</td>\n",
              "      <td>202202</td>\n",
              "    </tr>\n",
              "    <tr>\n",
              "      <th>48</th>\n",
              "      <td>Foto</td>\n",
              "      <td>2022-03-20</td>\n",
              "      <td>29084</td>\n",
              "      <td>479</td>\n",
              "      <td>Datas comemorativas/Promoções</td>\n",
              "      <td>S</td>\n",
              "      <td>S</td>\n",
              "      <td>N</td>\n",
              "      <td>29563</td>\n",
              "      <td>202203</td>\n",
              "    </tr>\n",
              "  </tbody>\n",
              "</table>\n",
              "</div>\n",
              "      <button class=\"colab-df-convert\" onclick=\"convertToInteractive('df-c7055c2d-0c23-46c8-95b9-67e19333af35')\"\n",
              "              title=\"Convert this dataframe to an interactive table.\"\n",
              "              style=\"display:none;\">\n",
              "        \n",
              "  <svg xmlns=\"http://www.w3.org/2000/svg\" height=\"24px\"viewBox=\"0 0 24 24\"\n",
              "       width=\"24px\">\n",
              "    <path d=\"M0 0h24v24H0V0z\" fill=\"none\"/>\n",
              "    <path d=\"M18.56 5.44l.94 2.06.94-2.06 2.06-.94-2.06-.94-.94-2.06-.94 2.06-2.06.94zm-11 1L8.5 8.5l.94-2.06 2.06-.94-2.06-.94L8.5 2.5l-.94 2.06-2.06.94zm10 10l.94 2.06.94-2.06 2.06-.94-2.06-.94-.94-2.06-.94 2.06-2.06.94z\"/><path d=\"M17.41 7.96l-1.37-1.37c-.4-.4-.92-.59-1.43-.59-.52 0-1.04.2-1.43.59L10.3 9.45l-7.72 7.72c-.78.78-.78 2.05 0 2.83L4 21.41c.39.39.9.59 1.41.59.51 0 1.02-.2 1.41-.59l7.78-7.78 2.81-2.81c.8-.78.8-2.07 0-2.86zM5.41 20L4 18.59l7.72-7.72 1.47 1.35L5.41 20z\"/>\n",
              "  </svg>\n",
              "      </button>\n",
              "      \n",
              "  <style>\n",
              "    .colab-df-container {\n",
              "      display:flex;\n",
              "      flex-wrap:wrap;\n",
              "      gap: 12px;\n",
              "    }\n",
              "\n",
              "    .colab-df-convert {\n",
              "      background-color: #E8F0FE;\n",
              "      border: none;\n",
              "      border-radius: 50%;\n",
              "      cursor: pointer;\n",
              "      display: none;\n",
              "      fill: #1967D2;\n",
              "      height: 32px;\n",
              "      padding: 0 0 0 0;\n",
              "      width: 32px;\n",
              "    }\n",
              "\n",
              "    .colab-df-convert:hover {\n",
              "      background-color: #E2EBFA;\n",
              "      box-shadow: 0px 1px 2px rgba(60, 64, 67, 0.3), 0px 1px 3px 1px rgba(60, 64, 67, 0.15);\n",
              "      fill: #174EA6;\n",
              "    }\n",
              "\n",
              "    [theme=dark] .colab-df-convert {\n",
              "      background-color: #3B4455;\n",
              "      fill: #D2E3FC;\n",
              "    }\n",
              "\n",
              "    [theme=dark] .colab-df-convert:hover {\n",
              "      background-color: #434B5C;\n",
              "      box-shadow: 0px 1px 3px 1px rgba(0, 0, 0, 0.15);\n",
              "      filter: drop-shadow(0px 1px 2px rgba(0, 0, 0, 0.3));\n",
              "      fill: #FFFFFF;\n",
              "    }\n",
              "  </style>\n",
              "\n",
              "      <script>\n",
              "        const buttonEl =\n",
              "          document.querySelector('#df-c7055c2d-0c23-46c8-95b9-67e19333af35 button.colab-df-convert');\n",
              "        buttonEl.style.display =\n",
              "          google.colab.kernel.accessAllowed ? 'block' : 'none';\n",
              "\n",
              "        async function convertToInteractive(key) {\n",
              "          const element = document.querySelector('#df-c7055c2d-0c23-46c8-95b9-67e19333af35');\n",
              "          const dataTable =\n",
              "            await google.colab.kernel.invokeFunction('convertToInteractive',\n",
              "                                                     [key], {});\n",
              "          if (!dataTable) return;\n",
              "\n",
              "          const docLinkHtml = 'Like what you see? Visit the ' +\n",
              "            '<a target=\"_blank\" href=https://colab.research.google.com/notebooks/data_table.ipynb>data table notebook</a>'\n",
              "            + ' to learn more about interactive tables.';\n",
              "          element.innerHTML = '';\n",
              "          dataTable['output_type'] = 'display_data';\n",
              "          await google.colab.output.renderOutput(dataTable, element);\n",
              "          const docLink = document.createElement('div');\n",
              "          docLink.innerHTML = docLinkHtml;\n",
              "          element.appendChild(docLink);\n",
              "        }\n",
              "      </script>\n",
              "    </div>\n",
              "  </div>\n",
              "  "
            ]
          },
          "metadata": {},
          "execution_count": 23
        }
      ]
    },
    {
      "cell_type": "code",
      "source": [
        "# Apagando a linha do post patrocinado\n",
        "base = base.drop(39, axis=0)"
      ],
      "metadata": {
        "id": "jUlpw0GfRUHb"
      },
      "execution_count": null,
      "outputs": []
    },
    {
      "cell_type": "code",
      "source": [
        "# Refazendo os cálculos pra base sem o post patrocinado e refazendo o plot\n",
        "media_mensal = base.groupby('mes')['Curtidas'].mean()\n",
        "minimo = base.groupby('mes')['Curtidas'].min()\n",
        "maximo = base.groupby('mes')['Curtidas'].max()\n",
        "\n",
        "# make data\n",
        "x = media_mensal.index.astype(str)\n",
        "y = media_mensal.values\n",
        "x1 = minimo.index.astype(str)\n",
        "y1 = minimo.values\n",
        "x2 = maximo.index.astype(str)\n",
        "y2 = maximo.values\n",
        "\n",
        "# plot\n",
        "fig, ax = plt.subplots()\n",
        "\n",
        "ax.plot(x, y, linewidth=2.0)\n",
        "ax.plot(x1, y1, linewidth=2.0, color='r')\n",
        "ax.plot(x2, y2, linewidth=2.0, color='g')\n",
        "\n",
        "plt.show()"
      ],
      "metadata": {
        "colab": {
          "base_uri": "https://localhost:8080/",
          "height": 265
        },
        "id": "9w2ZVydkRjhE",
        "outputId": "09af09eb-4481-451f-89ad-01dc60bd8e90"
      },
      "execution_count": null,
      "outputs": [
        {
          "output_type": "display_data",
          "data": {
            "text/plain": [
              "<Figure size 432x288 with 1 Axes>"
            ],
            "image/png": "[encoded data removed]"
          },
          "metadata": {
            "needs_background": "light"
          }
        }
      ]
    },
    {
      "cell_type": "markdown",
      "source": [
        "# Como podemos visualizar as tags que mais impactaram o negócio?"
      ],
      "metadata": {
        "id": "oj9VgkWpUHKd"
      }
    },
    {
      "cell_type": "code",
      "source": [
        "base.head()"
      ],
      "metadata": {
        "colab": {
          "base_uri": "https://localhost:8080/",
          "height": 206
        },
        "id": "JamrAhy1UGut",
        "outputId": "f57d2deb-f133-4e2a-e6c9-6b3218f249ee"
      },
      "execution_count": null,
      "outputs": [
        {
          "output_type": "execute_result",
          "data": {
            "text/plain": [
              "    Tipo       Data  Curtidas  Comentários           Tags Pessoas Campanhas  \\\n",
              "0   Foto 2021-09-11      2858           16           Loja       N         N   \n",
              "1   Foto 2021-09-11      2930           28  Loja/Produtos       N         N   \n",
              "2   Foto 2021-09-11      2807            9           Loja       N         N   \n",
              "3  Vídeo 2021-09-12      5115           49       Produtos       N         N   \n",
              "4   Foto 2021-09-13      4392           45       Produtos       S         N   \n",
              "\n",
              "  Carrossel  Interacoes      mes  \n",
              "0         N         2874  202109  \n",
              "1         N         2958  202109  \n",
              "2         N         2816  202109  \n",
              "3         N         5164  202109  \n",
              "4         N         4437  202109  "
            ],
            "text/html": [
              "\n",
              "  <div id=\"df-447488d8-e925-46dd-8d66-42bbd1de814d\">\n",
              "    <div class=\"colab-df-container\">\n",
              "      <div>\n",
              "<style scoped>\n",
              "    .dataframe tbody tr th:only-of-type {\n",
              "        vertical-align: middle;\n",
              "    }\n",
              "\n",
              "    .dataframe tbody tr th {\n",
              "        vertical-align: top;\n",
              "    }\n",
              "\n",
              "    .dataframe thead th {\n",
              "        text-align: right;\n",
              "    }\n",
              "</style>\n",
              "<table border=\"1\" class=\"dataframe\">\n",
              "  <thead>\n",
              "    <tr style=\"text-align: right;\">\n",
              "      <th></th>\n",
              "      <th>Tipo</th>\n",
              "      <th>Data</th>\n",
              "      <th>Curtidas</th>\n",
              "      <th>Comentários</th>\n",
              "      <th>Tags</th>\n",
              "      <th>Pessoas</th>\n",
              "      <th>Campanhas</th>\n",
              "      <th>Carrossel</th>\n",
              "      <th>Interacoes</th>\n",
              "      <th>mes</th>\n",
              "    </tr>\n",
              "  </thead>\n",
              "  <tbody>\n",
              "    <tr>\n",
              "      <th>0</th>\n",
              "      <td>Foto</td>\n",
              "      <td>2021-09-11</td>\n",
              "      <td>2858</td>\n",
              "      <td>16</td>\n",
              "      <td>Loja</td>\n",
              "      <td>N</td>\n",
              "      <td>N</td>\n",
              "      <td>N</td>\n",
              "      <td>2874</td>\n",
              "      <td>202109</td>\n",
              "    </tr>\n",
              "    <tr>\n",
              "      <th>1</th>\n",
              "      <td>Foto</td>\n",
              "      <td>2021-09-11</td>\n",
              "      <td>2930</td>\n",
              "      <td>28</td>\n",
              "      <td>Loja/Produtos</td>\n",
              "      <td>N</td>\n",
              "      <td>N</td>\n",
              "      <td>N</td>\n",
              "      <td>2958</td>\n",
              "      <td>202109</td>\n",
              "    </tr>\n",
              "    <tr>\n",
              "      <th>2</th>\n",
              "      <td>Foto</td>\n",
              "      <td>2021-09-11</td>\n",
              "      <td>2807</td>\n",
              "      <td>9</td>\n",
              "      <td>Loja</td>\n",
              "      <td>N</td>\n",
              "      <td>N</td>\n",
              "      <td>N</td>\n",
              "      <td>2816</td>\n",
              "      <td>202109</td>\n",
              "    </tr>\n",
              "    <tr>\n",
              "      <th>3</th>\n",
              "      <td>Vídeo</td>\n",
              "      <td>2021-09-12</td>\n",
              "      <td>5115</td>\n",
              "      <td>49</td>\n",
              "      <td>Produtos</td>\n",
              "      <td>N</td>\n",
              "      <td>N</td>\n",
              "      <td>N</td>\n",
              "      <td>5164</td>\n",
              "      <td>202109</td>\n",
              "    </tr>\n",
              "    <tr>\n",
              "      <th>4</th>\n",
              "      <td>Foto</td>\n",
              "      <td>2021-09-13</td>\n",
              "      <td>4392</td>\n",
              "      <td>45</td>\n",
              "      <td>Produtos</td>\n",
              "      <td>S</td>\n",
              "      <td>N</td>\n",
              "      <td>N</td>\n",
              "      <td>4437</td>\n",
              "      <td>202109</td>\n",
              "    </tr>\n",
              "  </tbody>\n",
              "</table>\n",
              "</div>\n",
              "      <button class=\"colab-df-convert\" onclick=\"convertToInteractive('df-447488d8-e925-46dd-8d66-42bbd1de814d')\"\n",
              "              title=\"Convert this dataframe to an interactive table.\"\n",
              "              style=\"display:none;\">\n",
              "        \n",
              "  <svg xmlns=\"http://www.w3.org/2000/svg\" height=\"24px\"viewBox=\"0 0 24 24\"\n",
              "       width=\"24px\">\n",
              "    <path d=\"M0 0h24v24H0V0z\" fill=\"none\"/>\n",
              "    <path d=\"M18.56 5.44l.94 2.06.94-2.06 2.06-.94-2.06-.94-.94-2.06-.94 2.06-2.06.94zm-11 1L8.5 8.5l.94-2.06 2.06-.94-2.06-.94L8.5 2.5l-.94 2.06-2.06.94zm10 10l.94 2.06.94-2.06 2.06-.94-2.06-.94-.94-2.06-.94 2.06-2.06.94z\"/><path d=\"M17.41 7.96l-1.37-1.37c-.4-.4-.92-.59-1.43-.59-.52 0-1.04.2-1.43.59L10.3 9.45l-7.72 7.72c-.78.78-.78 2.05 0 2.83L4 21.41c.39.39.9.59 1.41.59.51 0 1.02-.2 1.41-.59l7.78-7.78 2.81-2.81c.8-.78.8-2.07 0-2.86zM5.41 20L4 18.59l7.72-7.72 1.47 1.35L5.41 20z\"/>\n",
              "  </svg>\n",
              "      </button>\n",
              "      \n",
              "  <style>\n",
              "    .colab-df-container {\n",
              "      display:flex;\n",
              "      flex-wrap:wrap;\n",
              "      gap: 12px;\n",
              "    }\n",
              "\n",
              "    .colab-df-convert {\n",
              "      background-color: #E8F0FE;\n",
              "      border: none;\n",
              "      border-radius: 50%;\n",
              "      cursor: pointer;\n",
              "      display: none;\n",
              "      fill: #1967D2;\n",
              "      height: 32px;\n",
              "      padding: 0 0 0 0;\n",
              "      width: 32px;\n",
              "    }\n",
              "\n",
              "    .colab-df-convert:hover {\n",
              "      background-color: #E2EBFA;\n",
              "      box-shadow: 0px 1px 2px rgba(60, 64, 67, 0.3), 0px 1px 3px 1px rgba(60, 64, 67, 0.15);\n",
              "      fill: #174EA6;\n",
              "    }\n",
              "\n",
              "    [theme=dark] .colab-df-convert {\n",
              "      background-color: #3B4455;\n",
              "      fill: #D2E3FC;\n",
              "    }\n",
              "\n",
              "    [theme=dark] .colab-df-convert:hover {\n",
              "      background-color: #434B5C;\n",
              "      box-shadow: 0px 1px 3px 1px rgba(0, 0, 0, 0.15);\n",
              "      filter: drop-shadow(0px 1px 2px rgba(0, 0, 0, 0.3));\n",
              "      fill: #FFFFFF;\n",
              "    }\n",
              "  </style>\n",
              "\n",
              "      <script>\n",
              "        const buttonEl =\n",
              "          document.querySelector('#df-447488d8-e925-46dd-8d66-42bbd1de814d button.colab-df-convert');\n",
              "        buttonEl.style.display =\n",
              "          google.colab.kernel.accessAllowed ? 'block' : 'none';\n",
              "\n",
              "        async function convertToInteractive(key) {\n",
              "          const element = document.querySelector('#df-447488d8-e925-46dd-8d66-42bbd1de814d');\n",
              "          const dataTable =\n",
              "            await google.colab.kernel.invokeFunction('convertToInteractive',\n",
              "                                                     [key], {});\n",
              "          if (!dataTable) return;\n",
              "\n",
              "          const docLinkHtml = 'Like what you see? Visit the ' +\n",
              "            '<a target=\"_blank\" href=https://colab.research.google.com/notebooks/data_table.ipynb>data table notebook</a>'\n",
              "            + ' to learn more about interactive tables.';\n",
              "          element.innerHTML = '';\n",
              "          dataTable['output_type'] = 'display_data';\n",
              "          await google.colab.output.renderOutput(dataTable, element);\n",
              "          const docLink = document.createElement('div');\n",
              "          docLink.innerHTML = docLinkHtml;\n",
              "          element.appendChild(docLink);\n",
              "        }\n",
              "      </script>\n",
              "    </div>\n",
              "  </div>\n",
              "  "
            ]
          },
          "metadata": {},
          "execution_count": 26
        }
      ]
    },
    {
      "cell_type": "code",
      "source": [
        "baseTags = base\n",
        "baseTags.Tags = baseTags.Tags.str.split('/')\n",
        "baseTags = baseTags.explode('Tags')\n",
        "baseTags.head()"
      ],
      "metadata": {
        "colab": {
          "base_uri": "https://localhost:8080/",
          "height": 206
        },
        "id": "KuszVE2lU3cA",
        "outputId": "9105c38b-525a-4a68-997b-5d9a0121e75e"
      },
      "execution_count": null,
      "outputs": [
        {
          "output_type": "execute_result",
          "data": {
            "text/plain": [
              "    Tipo       Data  Curtidas  Comentários      Tags Pessoas Campanhas  \\\n",
              "0   Foto 2021-09-11      2858           16      Loja       N         N   \n",
              "1   Foto 2021-09-11      2930           28      Loja       N         N   \n",
              "1   Foto 2021-09-11      2930           28  Produtos       N         N   \n",
              "2   Foto 2021-09-11      2807            9      Loja       N         N   \n",
              "3  Vídeo 2021-09-12      5115           49  Produtos       N         N   \n",
              "\n",
              "  Carrossel  Interacoes      mes  \n",
              "0         N         2874  202109  \n",
              "1         N         2958  202109  \n",
              "1         N         2958  202109  \n",
              "2         N         2816  202109  \n",
              "3         N         5164  202109  "
            ],
            "text/html": [
              "\n",
              "  <div id=\"df-bf366f9f-7ded-49d4-a2d8-4c63e05a76f7\">\n",
              "    <div class=\"colab-df-container\">\n",
              "      <div>\n",
              "<style scoped>\n",
              "    .dataframe tbody tr th:only-of-type {\n",
              "        vertical-align: middle;\n",
              "    }\n",
              "\n",
              "    .dataframe tbody tr th {\n",
              "        vertical-align: top;\n",
              "    }\n",
              "\n",
              "    .dataframe thead th {\n",
              "        text-align: right;\n",
              "    }\n",
              "</style>\n",
              "<table border=\"1\" class=\"dataframe\">\n",
              "  <thead>\n",
              "    <tr style=\"text-align: right;\">\n",
              "      <th></th>\n",
              "      <th>Tipo</th>\n",
              "      <th>Data</th>\n",
              "      <th>Curtidas</th>\n",
              "      <th>Comentários</th>\n",
              "      <th>Tags</th>\n",
              "      <th>Pessoas</th>\n",
              "      <th>Campanhas</th>\n",
              "      <th>Carrossel</th>\n",
              "      <th>Interacoes</th>\n",
              "      <th>mes</th>\n",
              "    </tr>\n",
              "  </thead>\n",
              "  <tbody>\n",
              "    <tr>\n",
              "      <th>0</th>\n",
              "      <td>Foto</td>\n",
              "      <td>2021-09-11</td>\n",
              "      <td>2858</td>\n",
              "      <td>16</td>\n",
              "      <td>Loja</td>\n",
              "      <td>N</td>\n",
              "      <td>N</td>\n",
              "      <td>N</td>\n",
              "      <td>2874</td>\n",
              "      <td>202109</td>\n",
              "    </tr>\n",
              "    <tr>\n",
              "      <th>1</th>\n",
              "      <td>Foto</td>\n",
              "      <td>2021-09-11</td>\n",
              "      <td>2930</td>\n",
              "      <td>28</td>\n",
              "      <td>Loja</td>\n",
              "      <td>N</td>\n",
              "      <td>N</td>\n",
              "      <td>N</td>\n",
              "      <td>2958</td>\n",
              "      <td>202109</td>\n",
              "    </tr>\n",
              "    <tr>\n",
              "      <th>1</th>\n",
              "      <td>Foto</td>\n",
              "      <td>2021-09-11</td>\n",
              "      <td>2930</td>\n",
              "      <td>28</td>\n",
              "      <td>Produtos</td>\n",
              "      <td>N</td>\n",
              "      <td>N</td>\n",
              "      <td>N</td>\n",
              "      <td>2958</td>\n",
              "      <td>202109</td>\n",
              "    </tr>\n",
              "    <tr>\n",
              "      <th>2</th>\n",
              "      <td>Foto</td>\n",
              "      <td>2021-09-11</td>\n",
              "      <td>2807</td>\n",
              "      <td>9</td>\n",
              "      <td>Loja</td>\n",
              "      <td>N</td>\n",
              "      <td>N</td>\n",
              "      <td>N</td>\n",
              "      <td>2816</td>\n",
              "      <td>202109</td>\n",
              "    </tr>\n",
              "    <tr>\n",
              "      <th>3</th>\n",
              "      <td>Vídeo</td>\n",
              "      <td>2021-09-12</td>\n",
              "      <td>5115</td>\n",
              "      <td>49</td>\n",
              "      <td>Produtos</td>\n",
              "      <td>N</td>\n",
              "      <td>N</td>\n",
              "      <td>N</td>\n",
              "      <td>5164</td>\n",
              "      <td>202109</td>\n",
              "    </tr>\n",
              "  </tbody>\n",
              "</table>\n",
              "</div>\n",
              "      <button class=\"colab-df-convert\" onclick=\"convertToInteractive('df-bf366f9f-7ded-49d4-a2d8-4c63e05a76f7')\"\n",
              "              title=\"Convert this dataframe to an interactive table.\"\n",
              "              style=\"display:none;\">\n",
              "        \n",
              "  <svg xmlns=\"http://www.w3.org/2000/svg\" height=\"24px\"viewBox=\"0 0 24 24\"\n",
              "       width=\"24px\">\n",
              "    <path d=\"M0 0h24v24H0V0z\" fill=\"none\"/>\n",
              "    <path d=\"M18.56 5.44l.94 2.06.94-2.06 2.06-.94-2.06-.94-.94-2.06-.94 2.06-2.06.94zm-11 1L8.5 8.5l.94-2.06 2.06-.94-2.06-.94L8.5 2.5l-.94 2.06-2.06.94zm10 10l.94 2.06.94-2.06 2.06-.94-2.06-.94-.94-2.06-.94 2.06-2.06.94z\"/><path d=\"M17.41 7.96l-1.37-1.37c-.4-.4-.92-.59-1.43-.59-.52 0-1.04.2-1.43.59L10.3 9.45l-7.72 7.72c-.78.78-.78 2.05 0 2.83L4 21.41c.39.39.9.59 1.41.59.51 0 1.02-.2 1.41-.59l7.78-7.78 2.81-2.81c.8-.78.8-2.07 0-2.86zM5.41 20L4 18.59l7.72-7.72 1.47 1.35L5.41 20z\"/>\n",
              "  </svg>\n",
              "      </button>\n",
              "      \n",
              "  <style>\n",
              "    .colab-df-container {\n",
              "      display:flex;\n",
              "      flex-wrap:wrap;\n",
              "      gap: 12px;\n",
              "    }\n",
              "\n",
              "    .colab-df-convert {\n",
              "      background-color: #E8F0FE;\n",
              "      border: none;\n",
              "      border-radius: 50%;\n",
              "      cursor: pointer;\n",
              "      display: none;\n",
              "      fill: #1967D2;\n",
              "      height: 32px;\n",
              "      padding: 0 0 0 0;\n",
              "      width: 32px;\n",
              "    }\n",
              "\n",
              "    .colab-df-convert:hover {\n",
              "      background-color: #E2EBFA;\n",
              "      box-shadow: 0px 1px 2px rgba(60, 64, 67, 0.3), 0px 1px 3px 1px rgba(60, 64, 67, 0.15);\n",
              "      fill: #174EA6;\n",
              "    }\n",
              "\n",
              "    [theme=dark] .colab-df-convert {\n",
              "      background-color: #3B4455;\n",
              "      fill: #D2E3FC;\n",
              "    }\n",
              "\n",
              "    [theme=dark] .colab-df-convert:hover {\n",
              "      background-color: #434B5C;\n",
              "      box-shadow: 0px 1px 3px 1px rgba(0, 0, 0, 0.15);\n",
              "      filter: drop-shadow(0px 1px 2px rgba(0, 0, 0, 0.3));\n",
              "      fill: #FFFFFF;\n",
              "    }\n",
              "  </style>\n",
              "\n",
              "      <script>\n",
              "        const buttonEl =\n",
              "          document.querySelector('#df-bf366f9f-7ded-49d4-a2d8-4c63e05a76f7 button.colab-df-convert');\n",
              "        buttonEl.style.display =\n",
              "          google.colab.kernel.accessAllowed ? 'block' : 'none';\n",
              "\n",
              "        async function convertToInteractive(key) {\n",
              "          const element = document.querySelector('#df-bf366f9f-7ded-49d4-a2d8-4c63e05a76f7');\n",
              "          const dataTable =\n",
              "            await google.colab.kernel.invokeFunction('convertToInteractive',\n",
              "                                                     [key], {});\n",
              "          if (!dataTable) return;\n",
              "\n",
              "          const docLinkHtml = 'Like what you see? Visit the ' +\n",
              "            '<a target=\"_blank\" href=https://colab.research.google.com/notebooks/data_table.ipynb>data table notebook</a>'\n",
              "            + ' to learn more about interactive tables.';\n",
              "          element.innerHTML = '';\n",
              "          dataTable['output_type'] = 'display_data';\n",
              "          await google.colab.output.renderOutput(dataTable, element);\n",
              "          const docLink = document.createElement('div');\n",
              "          docLink.innerHTML = docLinkHtml;\n",
              "          element.appendChild(docLink);\n",
              "        }\n",
              "      </script>\n",
              "    </div>\n",
              "  </div>\n",
              "  "
            ]
          },
          "metadata": {},
          "execution_count": 27
        }
      ]
    },
    {
      "cell_type": "code",
      "source": [
        "baseTags.groupby('Tags')['Curtidas'].mean()"
      ],
      "metadata": {
        "colab": {
          "base_uri": "https://localhost:8080/"
        },
        "id": "EXaAeEHaWN4-",
        "outputId": "6cc4a63d-2d6c-4bb6-c392-ec0e5c5069c9"
      },
      "execution_count": null,
      "outputs": [
        {
          "output_type": "execute_result",
          "data": {
            "text/plain": [
              "Tags\n",
              "Datas comemorativas    20752.250000\n",
              "Dicas de como usar      6833.400000\n",
              "Influenciadores        15197.285714\n",
              "Loja                    2865.000000\n",
              "Novos Produtos         10304.888889\n",
              "Produtos                6269.823529\n",
              "Promoções              22512.000000\n",
              "Trends                 20024.000000\n",
              "Name: Curtidas, dtype: float64"
            ]
          },
          "metadata": {},
          "execution_count": 28
        }
      ]
    },
    {
      "cell_type": "code",
      "source": [
        "# Fazendo o plot para tags\n",
        "media = baseTags.groupby('Tags')['Curtidas'].mean().sort_values(ascending=False)\n",
        "\n",
        "# make data\n",
        "x = media.index\n",
        "y = media.values\n",
        "\n",
        "\n",
        "# plot\n",
        "fig, ax = plt.subplots()\n",
        "\n",
        "ax.bar(x, y, linewidth=2.0)\n",
        "\n",
        "plt.show()"
      ],
      "metadata": {
        "colab": {
          "base_uri": "https://localhost:8080/",
          "height": 265
        },
        "id": "vr8hOPeNWZAA",
        "outputId": "eaa3c6e9-2034-4088-8025-3666fc26fc67"
      },
      "execution_count": null,
      "outputs": [
        {
          "output_type": "display_data",
          "data": {
            "text/plain": [
              "<Figure size 432x288 with 1 Axes>"
            ],
            "image/png": "[encoded data removed]"
          },
          "metadata": {
            "needs_background": "light"
          }
        }
      ]
    },
    {
      "cell_type": "markdown",
      "source": [
        "Para ajustar o eixo x, vamos usar o tick_params\n",
        "\n",
        "*   https://matplotlib.org/3.5.0/api/_as_gen/matplotlib.pyplot.annotate.html"
      ],
      "metadata": {
        "id": "3WHzflpCY1lu"
      }
    },
    {
      "cell_type": "code",
      "source": [
        "# plot\n",
        "fig, ax = plt.subplots()\n",
        "\n",
        "ax.bar(x, y, label='curtidas')\n",
        "\n",
        "# Rotacionando as legendas\n",
        "ax.tick_params('x', labelrotation=45)\n",
        "\n",
        "# Adicionando a legenda\n",
        "ax.legend()\n",
        "\n",
        "plt.show()"
      ],
      "metadata": {
        "colab": {
          "base_uri": "https://localhost:8080/",
          "height": 340
        },
        "id": "VE-kDIaUZ24V",
        "outputId": "e6b96bc2-95b7-4c86-d0a2-14ec68203637"
      },
      "execution_count": null,
      "outputs": [
        {
          "output_type": "display_data",
          "data": {
            "text/plain": [
              "<Figure size 432x288 with 1 Axes>"
            ],
            "image/png": "[encoded data removed]"
          },
          "metadata": {
            "needs_background": "light"
          }
        }
      ]
    },
    {
      "cell_type": "markdown",
      "source": [
        "# Inserindo as quantidades de curtidas nos gráficos\n",
        "\n",
        "*   Para isso, vamos usar o annotate\n",
        "\n",
        "> https://matplotlib.org/3.5.0/api/_as_gen/matplotlib.pyplot.annotate.html\n",
        "\n",
        "> Com ele, você consegue colocar qualquer texto no seu gráfico\n",
        "\n",
        "> Basta usar: *plt.annotate('TEXTO',(x,y))*\n",
        "\n",
        "*   Precisamos passar os argumentos:\n",
        "\n",
        "> texto que vai ser escrito\n",
        "\n",
        "> Posição (x,y) onde o texto vai estar"
      ],
      "metadata": {
        "id": "3xFKvJi4bhHI"
      }
    },
    {
      "cell_type": "code",
      "source": [
        "y"
      ],
      "metadata": {
        "colab": {
          "base_uri": "https://localhost:8080/"
        },
        "id": "5Cti_witnJzj",
        "outputId": "bfc9cb8c-1c89-4729-d00a-c789eebc31dc"
      },
      "execution_count": null,
      "outputs": [
        {
          "output_type": "execute_result",
          "data": {
            "text/plain": [
              "array([22512.        , 20752.25      , 20024.        , 15197.28571429,\n",
              "       10304.88888889,  6833.4       ,  6269.82352941,  2865.        ])"
            ]
          },
          "metadata": {},
          "execution_count": 38
        }
      ]
    },
    {
      "cell_type": "code",
      "source": [
        "# plot\n",
        "fig, ax = plt.subplots()\n",
        "\n",
        "ax.bar(x, y, label='curtidas')\n",
        "ax.tick_params('x', labelrotation=45)\n",
        "ax.legend()\n",
        "\n",
        "plt.annotate('TEXTO',(6,15000))\n",
        "\n",
        "for i in range(0, 8):\n",
        "  plt.annotate(y[i], (i, y[i]))\n",
        "\n",
        "plt.show()"
      ],
      "metadata": {
        "colab": {
          "base_uri": "https://localhost:8080/",
          "height": 340
        },
        "id": "pmwSv7BDk8gY",
        "outputId": "8df3ff2f-bffe-4731-bb69-144e7d98bd4a"
      },
      "execution_count": null,
      "outputs": [
        {
          "output_type": "display_data",
          "data": {
            "text/plain": [
              "<Figure size 432x288 with 1 Axes>"
            ],
            "image/png": "[encoded data removed]"
          },
          "metadata": {
            "needs_background": "light"
          }
        }
      ]
    },
    {
      "cell_type": "code",
      "source": [
        "#### Melhorando a formatação do annotate\n",
        "# plot\n",
        "fig, ax = plt.subplots()\n",
        "\n",
        "ax.bar(x, y, label='curtidas')\n",
        "ax.tick_params('x', labelrotation=45)\n",
        "ax.legend()\n",
        "\n",
        "# Colocando os valores nos gráficos\n",
        "### Precisamos fazer um loop para ir colocando os valores em cada uma das barras\n",
        "for i in np.arange(0,8):\n",
        "  plt.annotate('{:,.0f}'.format(y[i]), # formatando o número\n",
        "               (i,y[i]), # colocando a posição do elemento\n",
        "               ha='center', # colocando a posição do elemento\n",
        "               xytext=(0,3), # deslocamento x,y do texto\n",
        "               textcoords='offset points' # referencial que vamos fazer o deslocamento\n",
        "               )\n",
        "  \n",
        "ax.set(ylim=(0, 25000))\n",
        "\n",
        "plt.show()"
      ],
      "metadata": {
        "colab": {
          "base_uri": "https://localhost:8080/",
          "height": 344
        },
        "id": "15btTIG7sbQp",
        "outputId": "b7419d27-bfbe-4106-ff38-d9e6c0e4aec8"
      },
      "execution_count": null,
      "outputs": [
        {
          "output_type": "display_data",
          "data": {
            "text/plain": [
              "<Figure size 432x288 with 1 Axes>"
            ],
            "image/png": "[encoded data removed]"
          },
          "metadata": {
            "needs_background": "light"
          }
        }
      ]
    },
    {
      "cell_type": "markdown",
      "source": [
        "# Criando um scatter plot usando apenas a documentação\n",
        "\n",
        "*   https://matplotlib.org/\n",
        "\n",
        "> Plot Types\n",
        "\n",
        "> scatter(x, y)\n",
        "\n",
        "\n",
        "\n",
        "\n",
        "\n",
        "\n",
        "\n",
        "\n"
      ],
      "metadata": {
        "id": "CzlxjAgwv6ZI"
      }
    },
    {
      "cell_type": "code",
      "source": [
        "# make the data\n",
        "np.random.seed(3)\n",
        "x = 4 + np.random.normal(0, 2, 24)\n",
        "y = 4 + np.random.normal(0, 2, len(x))\n",
        "\n",
        "# size and color:\n",
        "sizes = np.random.uniform(15, 80, len(x))\n",
        "colors = np.random.uniform(15, 80, len(x))\n",
        "\n",
        "# plot\n",
        "fig, ax = plt.subplots()\n",
        "\n",
        "ax.scatter(x, y, s=sizes, c=colors, vmin=0, vmax=100)\n",
        "\n",
        "ax.set(xlim=(0, 8), xticks=np.arange(1, 8),\n",
        "       ylim=(0, 8), yticks=np.arange(1, 8))\n",
        "\n",
        "plt.show()"
      ],
      "metadata": {
        "colab": {
          "base_uri": "https://localhost:8080/",
          "height": 265
        },
        "id": "v6S-876dwW9Y",
        "outputId": "b3653de3-bf5c-4796-b41e-fc6a13e781be"
      },
      "execution_count": null,
      "outputs": [
        {
          "output_type": "display_data",
          "data": {
            "text/plain": [
              "<Figure size 432x288 with 1 Axes>"
            ],
            "image/png": "[encoded data removed]"
          },
          "metadata": {
            "needs_background": "light"
          }
        }
      ]
    },
    {
      "cell_type": "code",
      "source": [
        "# Na parte dos dados, podemos usar a relação de curtidas x comentários\n",
        "x = base.Curtidas\n",
        "y = base.Comentários"
      ],
      "metadata": {
        "id": "AvCxSTkIx7R3"
      },
      "execution_count": null,
      "outputs": []
    },
    {
      "cell_type": "code",
      "source": [
        "# Depois, já podemos ir direto para o plot, usando apenas o básico\n",
        "fig, ax = plt.subplots()\n",
        "\n",
        "ax.scatter(x, y)\n",
        "\n",
        "plt.show()"
      ],
      "metadata": {
        "colab": {
          "base_uri": "https://localhost:8080/",
          "height": 265
        },
        "id": "P6W9YzDNyHiY",
        "outputId": "3b141fac-bfae-440a-bada-2b7de8c1c7d6"
      },
      "execution_count": null,
      "outputs": [
        {
          "output_type": "display_data",
          "data": {
            "text/plain": [
              "<Figure size 432x288 with 1 Axes>"
            ],
            "image/png": "[encoded data removed]"
          },
          "metadata": {
            "needs_background": "light"
          }
        }
      ]
    },
    {
      "cell_type": "markdown",
      "source": [
        "Podemos criar uma nova coluna para ser a cor, baseado no tipo de publicação"
      ],
      "metadata": {
        "id": "yhn_yOsEzUmt"
      }
    },
    {
      "cell_type": "code",
      "source": [
        "base.Tipo.unique()"
      ],
      "metadata": {
        "colab": {
          "base_uri": "https://localhost:8080/"
        },
        "id": "zCAaypDrzc57",
        "outputId": "28b208fa-f4eb-4136-ff7f-1fa53d800743"
      },
      "execution_count": null,
      "outputs": [
        {
          "output_type": "execute_result",
          "data": {
            "text/plain": [
              "array(['Foto', 'Vídeo', 'Reels', 'IGTV'], dtype=object)"
            ]
          },
          "metadata": {},
          "execution_count": 51
        }
      ]
    },
    {
      "cell_type": "code",
      "source": [
        "def tipo_para_numero(tipo):\n",
        "  if(tipo == 'Foto'):\n",
        "    return 1\n",
        "  elif(tipo == 'Vídeo'):\n",
        "    return 2\n",
        "  elif(tipo == 'Reels'):\n",
        "    return 3\n",
        "  elif(tipo == 'IGTV'):\n",
        "    return 4"
      ],
      "metadata": {
        "id": "u4pl7nUMzh7A"
      },
      "execution_count": null,
      "outputs": []
    },
    {
      "cell_type": "code",
      "source": [
        "base['NrTipo'] = base.Tipo.apply(tipo_para_numero)"
      ],
      "metadata": {
        "id": "HkIjz5Rp1RS5"
      },
      "execution_count": null,
      "outputs": []
    },
    {
      "cell_type": "code",
      "source": [
        "base.head()"
      ],
      "metadata": {
        "colab": {
          "base_uri": "https://localhost:8080/",
          "height": 206
        },
        "id": "ISq5WAAx2B1B",
        "outputId": "d758260e-6fac-4f26-d1e7-42025842d02c"
      },
      "execution_count": null,
      "outputs": [
        {
          "output_type": "execute_result",
          "data": {
            "text/plain": [
              "    Tipo       Data  Curtidas  Comentários              Tags Pessoas  \\\n",
              "0   Foto 2021-09-11      2858           16            [Loja]       N   \n",
              "1   Foto 2021-09-11      2930           28  [Loja, Produtos]       N   \n",
              "2   Foto 2021-09-11      2807            9            [Loja]       N   \n",
              "3  Vídeo 2021-09-12      5115           49        [Produtos]       N   \n",
              "4   Foto 2021-09-13      4392           45        [Produtos]       S   \n",
              "\n",
              "  Campanhas Carrossel  Interacoes      mes  NrTipo  \n",
              "0         N         N         2874  202109       1  \n",
              "1         N         N         2958  202109       1  \n",
              "2         N         N         2816  202109       1  \n",
              "3         N         N         5164  202109       2  \n",
              "4         N         N         4437  202109       1  "
            ],
            "text/html": [
              "\n",
              "  <div id=\"df-d763ab35-de33-4661-8c73-5596001fa1a7\">\n",
              "    <div class=\"colab-df-container\">\n",
              "      <div>\n",
              "<style scoped>\n",
              "    .dataframe tbody tr th:only-of-type {\n",
              "        vertical-align: middle;\n",
              "    }\n",
              "\n",
              "    .dataframe tbody tr th {\n",
              "        vertical-align: top;\n",
              "    }\n",
              "\n",
              "    .dataframe thead th {\n",
              "        text-align: right;\n",
              "    }\n",
              "</style>\n",
              "<table border=\"1\" class=\"dataframe\">\n",
              "  <thead>\n",
              "    <tr style=\"text-align: right;\">\n",
              "      <th></th>\n",
              "      <th>Tipo</th>\n",
              "      <th>Data</th>\n",
              "      <th>Curtidas</th>\n",
              "      <th>Comentários</th>\n",
              "      <th>Tags</th>\n",
              "      <th>Pessoas</th>\n",
              "      <th>Campanhas</th>\n",
              "      <th>Carrossel</th>\n",
              "      <th>Interacoes</th>\n",
              "      <th>mes</th>\n",
              "      <th>NrTipo</th>\n",
              "    </tr>\n",
              "  </thead>\n",
              "  <tbody>\n",
              "    <tr>\n",
              "      <th>0</th>\n",
              "      <td>Foto</td>\n",
              "      <td>2021-09-11</td>\n",
              "      <td>2858</td>\n",
              "      <td>16</td>\n",
              "      <td>[Loja]</td>\n",
              "      <td>N</td>\n",
              "      <td>N</td>\n",
              "      <td>N</td>\n",
              "      <td>2874</td>\n",
              "      <td>202109</td>\n",
              "      <td>1</td>\n",
              "    </tr>\n",
              "    <tr>\n",
              "      <th>1</th>\n",
              "      <td>Foto</td>\n",
              "      <td>2021-09-11</td>\n",
              "      <td>2930</td>\n",
              "      <td>28</td>\n",
              "      <td>[Loja, Produtos]</td>\n",
              "      <td>N</td>\n",
              "      <td>N</td>\n",
              "      <td>N</td>\n",
              "      <td>2958</td>\n",
              "      <td>202109</td>\n",
              "      <td>1</td>\n",
              "    </tr>\n",
              "    <tr>\n",
              "      <th>2</th>\n",
              "      <td>Foto</td>\n",
              "      <td>2021-09-11</td>\n",
              "      <td>2807</td>\n",
              "      <td>9</td>\n",
              "      <td>[Loja]</td>\n",
              "      <td>N</td>\n",
              "      <td>N</td>\n",
              "      <td>N</td>\n",
              "      <td>2816</td>\n",
              "      <td>202109</td>\n",
              "      <td>1</td>\n",
              "    </tr>\n",
              "    <tr>\n",
              "      <th>3</th>\n",
              "      <td>Vídeo</td>\n",
              "      <td>2021-09-12</td>\n",
              "      <td>5115</td>\n",
              "      <td>49</td>\n",
              "      <td>[Produtos]</td>\n",
              "      <td>N</td>\n",
              "      <td>N</td>\n",
              "      <td>N</td>\n",
              "      <td>5164</td>\n",
              "      <td>202109</td>\n",
              "      <td>2</td>\n",
              "    </tr>\n",
              "    <tr>\n",
              "      <th>4</th>\n",
              "      <td>Foto</td>\n",
              "      <td>2021-09-13</td>\n",
              "      <td>4392</td>\n",
              "      <td>45</td>\n",
              "      <td>[Produtos]</td>\n",
              "      <td>S</td>\n",
              "      <td>N</td>\n",
              "      <td>N</td>\n",
              "      <td>4437</td>\n",
              "      <td>202109</td>\n",
              "      <td>1</td>\n",
              "    </tr>\n",
              "  </tbody>\n",
              "</table>\n",
              "</div>\n",
              "      <button class=\"colab-df-convert\" onclick=\"convertToInteractive('df-d763ab35-de33-4661-8c73-5596001fa1a7')\"\n",
              "              title=\"Convert this dataframe to an interactive table.\"\n",
              "              style=\"display:none;\">\n",
              "        \n",
              "  <svg xmlns=\"http://www.w3.org/2000/svg\" height=\"24px\"viewBox=\"0 0 24 24\"\n",
              "       width=\"24px\">\n",
              "    <path d=\"M0 0h24v24H0V0z\" fill=\"none\"/>\n",
              "    <path d=\"M18.56 5.44l.94 2.06.94-2.06 2.06-.94-2.06-.94-.94-2.06-.94 2.06-2.06.94zm-11 1L8.5 8.5l.94-2.06 2.06-.94-2.06-.94L8.5 2.5l-.94 2.06-2.06.94zm10 10l.94 2.06.94-2.06 2.06-.94-2.06-.94-.94-2.06-.94 2.06-2.06.94z\"/><path d=\"M17.41 7.96l-1.37-1.37c-.4-.4-.92-.59-1.43-.59-.52 0-1.04.2-1.43.59L10.3 9.45l-7.72 7.72c-.78.78-.78 2.05 0 2.83L4 21.41c.39.39.9.59 1.41.59.51 0 1.02-.2 1.41-.59l7.78-7.78 2.81-2.81c.8-.78.8-2.07 0-2.86zM5.41 20L4 18.59l7.72-7.72 1.47 1.35L5.41 20z\"/>\n",
              "  </svg>\n",
              "      </button>\n",
              "      \n",
              "  <style>\n",
              "    .colab-df-container {\n",
              "      display:flex;\n",
              "      flex-wrap:wrap;\n",
              "      gap: 12px;\n",
              "    }\n",
              "\n",
              "    .colab-df-convert {\n",
              "      background-color: #E8F0FE;\n",
              "      border: none;\n",
              "      border-radius: 50%;\n",
              "      cursor: pointer;\n",
              "      display: none;\n",
              "      fill: #1967D2;\n",
              "      height: 32px;\n",
              "      padding: 0 0 0 0;\n",
              "      width: 32px;\n",
              "    }\n",
              "\n",
              "    .colab-df-convert:hover {\n",
              "      background-color: #E2EBFA;\n",
              "      box-shadow: 0px 1px 2px rgba(60, 64, 67, 0.3), 0px 1px 3px 1px rgba(60, 64, 67, 0.15);\n",
              "      fill: #174EA6;\n",
              "    }\n",
              "\n",
              "    [theme=dark] .colab-df-convert {\n",
              "      background-color: #3B4455;\n",
              "      fill: #D2E3FC;\n",
              "    }\n",
              "\n",
              "    [theme=dark] .colab-df-convert:hover {\n",
              "      background-color: #434B5C;\n",
              "      box-shadow: 0px 1px 3px 1px rgba(0, 0, 0, 0.15);\n",
              "      filter: drop-shadow(0px 1px 2px rgba(0, 0, 0, 0.3));\n",
              "      fill: #FFFFFF;\n",
              "    }\n",
              "  </style>\n",
              "\n",
              "      <script>\n",
              "        const buttonEl =\n",
              "          document.querySelector('#df-d763ab35-de33-4661-8c73-5596001fa1a7 button.colab-df-convert');\n",
              "        buttonEl.style.display =\n",
              "          google.colab.kernel.accessAllowed ? 'block' : 'none';\n",
              "\n",
              "        async function convertToInteractive(key) {\n",
              "          const element = document.querySelector('#df-d763ab35-de33-4661-8c73-5596001fa1a7');\n",
              "          const dataTable =\n",
              "            await google.colab.kernel.invokeFunction('convertToInteractive',\n",
              "                                                     [key], {});\n",
              "          if (!dataTable) return;\n",
              "\n",
              "          const docLinkHtml = 'Like what you see? Visit the ' +\n",
              "            '<a target=\"_blank\" href=https://colab.research.google.com/notebooks/data_table.ipynb>data table notebook</a>'\n",
              "            + ' to learn more about interactive tables.';\n",
              "          element.innerHTML = '';\n",
              "          dataTable['output_type'] = 'display_data';\n",
              "          await google.colab.output.renderOutput(dataTable, element);\n",
              "          const docLink = document.createElement('div');\n",
              "          docLink.innerHTML = docLinkHtml;\n",
              "          element.appendChild(docLink);\n",
              "        }\n",
              "      </script>\n",
              "    </div>\n",
              "  </div>\n",
              "  "
            ]
          },
          "metadata": {},
          "execution_count": 54
        }
      ]
    },
    {
      "cell_type": "code",
      "source": [
        "colors = base.NrTipo"
      ],
      "metadata": {
        "id": "k00cCHxD2Ewe"
      },
      "execution_count": null,
      "outputs": []
    },
    {
      "cell_type": "code",
      "source": [
        "# Depois já podemos ir direto pro plot, usando apenas o básico\n",
        "fig, ax = plt.subplots()\n",
        "\n",
        "ax.scatter(x, y, c=colors)\n",
        "\n",
        "plt.show()"
      ],
      "metadata": {
        "colab": {
          "base_uri": "https://localhost:8080/",
          "height": 265
        },
        "id": "uDYNP0WF25A2",
        "outputId": "222aad8f-1811-4fea-d046-b4b938575bde"
      },
      "execution_count": null,
      "outputs": [
        {
          "output_type": "display_data",
          "data": {
            "text/plain": [
              "<Figure size 432x288 with 1 Axes>"
            ],
            "image/png": "[encoded data removed]"
          },
          "metadata": {
            "needs_background": "light"
          }
        }
      ]
    },
    {
      "cell_type": "code",
      "source": [
        "### Dica: Podemos também adicionar a legenda em relação a cada um dos pontos\n",
        "fig, ax = plt.subplots()\n",
        "\n",
        "scatter_plot = ax.scatter(x, y, c=colors)\n",
        "\n",
        "ax.legend(handles=scatter_plot.legend_elements()[0], labels=['Foto', 'Vídeo', 'Reels', 'IGTV'])\n",
        "\n",
        "plt.show()"
      ],
      "metadata": {
        "colab": {
          "base_uri": "https://localhost:8080/",
          "height": 265
        },
        "id": "4sJNBT3c_ncB",
        "outputId": "6c06f1ca-d7bc-4ea0-feb4-059f5709ae34"
      },
      "execution_count": null,
      "outputs": [
        {
          "output_type": "display_data",
          "data": {
            "text/plain": [
              "<Figure size 432x288 with 1 Axes>"
            ],
            "image/png": "[encoded data removed]"
          },
          "metadata": {
            "needs_background": "light"
          }
        }
      ]
    }
  ]
}